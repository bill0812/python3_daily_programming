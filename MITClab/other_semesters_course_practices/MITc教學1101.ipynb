{
 "cells": [
  {
   "cell_type": "markdown",
   "metadata": {},
   "source": [
    "# import套件新的方法\n",
    "# numpy array的使用方法\n",
    "\n",
    "## 第三次上機\n",
    "### 2018.11.01"
   ]
  },
  {
   "cell_type": "markdown",
   "metadata": {},
   "source": [
    "# import 套件"
   ]
  },
  {
   "cell_type": "markdown",
   "metadata": {},
   "source": [
    "我們之前用的\n",
    "%pylab inline\n"
   ]
  },
  {
   "cell_type": "markdown",
   "metadata": {},
   "source": [
    "有引用不同套件，但其中含有相同名稱的函數的問題。我們現在來解決它"
   ]
  },
  {
   "cell_type": "code",
   "execution_count": null,
   "metadata": {},
   "outputs": [],
   "source": [
    "%pylab inline"
   ]
  },
  {
   "cell_type": "code",
   "execution_count": 1,
   "metadata": {},
   "outputs": [],
   "source": [
    "%matplotlib inline\n",
    "#我們之前%pylab inline會同時引用numpy以及random套件，兩者中都有randint()，但接收的參數不同\n",
    "#matplotlib不包含上述兩個套件，所以可以安心使用，只是我們要記得再一次引用numpy"
   ]
  },
  {
   "cell_type": "code",
   "execution_count": 4,
   "metadata": {},
   "outputs": [],
   "source": [
    "from numpy import *\n",
    "from matplotlib.pyplot import *\n",
    "#在大部分的程式語言裡面，單獨出現時， * 代表全部\n",
    "#我們也可以引用自己需要的部分就好，比如import sin from numpy"
   ]
  },
  {
   "cell_type": "code",
   "execution_count": 5,
   "metadata": {},
   "outputs": [
    {
     "data": {
      "text/plain": [
       "0.8414709848078965"
      ]
     },
     "execution_count": 5,
     "metadata": {},
     "output_type": "execute_result"
    }
   ],
   "source": [
    "sin(1)"
   ]
  },
  {
   "cell_type": "code",
   "execution_count": 7,
   "metadata": {},
   "outputs": [
    {
     "data": {
      "text/plain": [
       "3.141592653589793"
      ]
     },
     "execution_count": 7,
     "metadata": {},
     "output_type": "execute_result"
    }
   ],
   "source": [
    "pi"
   ]
  },
  {
   "cell_type": "markdown",
   "metadata": {},
   "source": [
    "我們把我們常用的兩個套件引用進來了，但這樣還不好"
   ]
  },
  {
   "cell_type": "code",
   "execution_count": 2,
   "metadata": {},
   "outputs": [],
   "source": [
    "#引用套件時應該要有個習慣，不要把引用進來的套件函數混在一起\n",
    "#我們要給每一個套件一個代號，找其中的功能時才不會混淆\n",
    "import numpy as np\n",
    "import matplotlib.pyplot as plt\n",
    "#雖然你可以自由命名這些代號，但是最好跟隨約定俗成的用法，比如np或是plt，避免別人看不懂你寫的程式"
   ]
  },
  {
   "cell_type": "code",
   "execution_count": 9,
   "metadata": {},
   "outputs": [
    {
     "data": {
      "text/plain": [
       "1.2246467991473532e-16"
      ]
     },
     "execution_count": 9,
     "metadata": {},
     "output_type": "execute_result"
    }
   ],
   "source": [
    "np.sin(np.pi)"
   ]
  },
  {
   "cell_type": "markdown",
   "metadata": {},
   "source": [
    "我們來複習一下吧"
   ]
  },
  {
   "cell_type": "code",
   "execution_count": 12,
   "metadata": {},
   "outputs": [
    {
     "data": {
      "text/plain": [
       "[<matplotlib.lines.Line2D at 0x1f8f29bc828>]"
      ]
     },
     "execution_count": 12,
     "metadata": {},
     "output_type": "execute_result"
    },
    {
     "data": {
      "image/png": "[encoded data removed]",
      "text/plain": [
       "<Figure size 432x288 with 1 Axes>"
      ]
     },
     "metadata": {
      "needs_background": "light"
     },
     "output_type": "display_data"
    }
   ],
   "source": [
    "plt.plot(np.random.randint(1,10,10))\n",
    "#等同 \n",
    "#pts =np.random.randint(1,10,10)\n",
    "#plt.plot(pts)"
   ]
  },
  {
   "cell_type": "markdown",
   "metadata": {},
   "source": [
    "# 處理list裡面的資料"
   ]
  },
  {
   "cell_type": "code",
   "execution_count": 14,
   "metadata": {},
   "outputs": [],
   "source": [
    "l = [10, 20, 30, 40]\n",
    "w = 10"
   ]
  },
  {
   "cell_type": "code",
   "execution_count": 15,
   "metadata": {},
   "outputs": [
    {
     "name": "stdout",
     "output_type": "stream",
     "text": [
      "100\n",
      "200\n",
      "300\n",
      "400\n"
     ]
    }
   ],
   "source": [
    "for i in l:\n",
    "    print(i*w)"
   ]
  },
  {
   "cell_type": "markdown",
   "metadata": {},
   "source": [
    "要記得算完的結果要用變數存起來，才可以再利用喔"
   ]
  },
  {
   "cell_type": "code",
   "execution_count": 19,
   "metadata": {},
   "outputs": [],
   "source": [
    "res = []"
   ]
  },
  {
   "cell_type": "code",
   "execution_count": 20,
   "metadata": {},
   "outputs": [
    {
     "data": {
      "text/plain": [
       "[100, 200, 300, 400]"
      ]
     },
     "execution_count": 20,
     "metadata": {},
     "output_type": "execute_result"
    }
   ],
   "source": [
    "for i in l:\n",
    "    tmp = i*w\n",
    "    res.append(tmp)\n",
    "res"
   ]
  },
  {
   "cell_type": "markdown",
   "metadata": {},
   "source": [
    "# 不用list，改用array"
   ]
  },
  {
   "cell_type": "markdown",
   "metadata": {},
   "source": [
    "在大量運算時，if和for很耗費效能，可以不用的時候盡量不要用"
   ]
  },
  {
   "cell_type": "markdown",
   "metadata": {},
   "source": [
    "numpy裡的型別array的某些特性可以幫我們減少運算"
   ]
  },
  {
   "cell_type": "code",
   "execution_count": 30,
   "metadata": {},
   "outputs": [],
   "source": [
    "#注意，np.array()裡面要放的是\"一個\"list，如果有很多層，list最外面要用中括弧包起來喔\n",
    "test_array = np.array([1,2,3,4])\n",
    "test_list = [1,2,3,4]"
   ]
  },
  {
   "cell_type": "markdown",
   "metadata": {},
   "source": [
    "list的特性"
   ]
  },
  {
   "cell_type": "code",
   "execution_count": 31,
   "metadata": {},
   "outputs": [
    {
     "data": {
      "text/plain": [
       "[1, 2, 3, 4, 1, 2, 3, 4]"
      ]
     },
     "execution_count": 31,
     "metadata": {},
     "output_type": "execute_result"
    }
   ],
   "source": [
    "#list乘以常數的結果\n",
    "test_list * 2"
   ]
  },
  {
   "cell_type": "code",
   "execution_count": 33,
   "metadata": {},
   "outputs": [
    {
     "ename": "TypeError",
     "evalue": "can only concatenate list (not \"int\") to list",
     "output_type": "error",
     "traceback": [
      "\u001b[1;31m---------------------------------------------------------------------------\u001b[0m",
      "\u001b[1;31mTypeError\u001b[0m                                 Traceback (most recent call last)",
      "\u001b[1;32m<ipython-input-33-278be567ca71>\u001b[0m in \u001b[0;36m<module>\u001b[1;34m()\u001b[0m\n\u001b[1;32m----> 1\u001b[1;33m \u001b[0mtest_list\u001b[0m\u001b[1;33m+\u001b[0m\u001b[1;36m1\u001b[0m\u001b[1;33m\u001b[0m\u001b[0m\n\u001b[0m",
      "\u001b[1;31mTypeError\u001b[0m: can only concatenate list (not \"int\") to list"
     ]
    }
   ],
   "source": [
    "#list加上常數的結果\n",
    "test_list + 1"
   ]
  },
  {
   "cell_type": "code",
   "execution_count": 35,
   "metadata": {},
   "outputs": [
    {
     "data": {
      "text/plain": [
       "[1, 2, 3, 4, 0.5, 0.6, 0.5, 0.4]"
      ]
     },
     "execution_count": 35,
     "metadata": {},
     "output_type": "execute_result"
    }
   ],
   "source": [
    "#list之間相加的結果\n",
    "test_list2 = [0.5, 0.6, 0.5, 0.4]\n",
    "test_list + test_list2"
   ]
  },
  {
   "cell_type": "code",
   "execution_count": 38,
   "metadata": {},
   "outputs": [
    {
     "ename": "TypeError",
     "evalue": "unsupported operand type(s) for -: 'list' and 'list'",
     "output_type": "error",
     "traceback": [
      "\u001b[1;31m---------------------------------------------------------------------------\u001b[0m",
      "\u001b[1;31mTypeError\u001b[0m                                 Traceback (most recent call last)",
      "\u001b[1;32m<ipython-input-38-5dcbbf9e7810>\u001b[0m in \u001b[0;36m<module>\u001b[1;34m()\u001b[0m\n\u001b[1;32m----> 1\u001b[1;33m \u001b[0mtest_list\u001b[0m\u001b[1;33m-\u001b[0m\u001b[0mtest_list2\u001b[0m\u001b[1;33m\u001b[0m\u001b[0m\n\u001b[0m",
      "\u001b[1;31mTypeError\u001b[0m: unsupported operand type(s) for -: 'list' and 'list'"
     ]
    }
   ],
   "source": [
    "#list之間相減的結果\n",
    "test_list - test_list2"
   ]
  },
  {
   "cell_type": "code",
   "execution_count": 39,
   "metadata": {},
   "outputs": [
    {
     "ename": "TypeError",
     "evalue": "can't multiply sequence by non-int of type 'list'",
     "output_type": "error",
     "traceback": [
      "\u001b[1;31m---------------------------------------------------------------------------\u001b[0m",
      "\u001b[1;31mTypeError\u001b[0m                                 Traceback (most recent call last)",
      "\u001b[1;32m<ipython-input-39-d44c5d2972aa>\u001b[0m in \u001b[0;36m<module>\u001b[1;34m()\u001b[0m\n\u001b[1;32m----> 1\u001b[1;33m \u001b[0mtest_list\u001b[0m\u001b[1;33m*\u001b[0m\u001b[0mtest_list2\u001b[0m\u001b[1;33m\u001b[0m\u001b[0m\n\u001b[0m",
      "\u001b[1;31mTypeError\u001b[0m: can't multiply sequence by non-int of type 'list'"
     ]
    }
   ],
   "source": [
    "#list之間相乘的結果\n",
    "test_list * test_list2"
   ]
  },
  {
   "cell_type": "markdown",
   "metadata": {},
   "source": [
    "array的特性"
   ]
  },
  {
   "cell_type": "code",
   "execution_count": 40,
   "metadata": {},
   "outputs": [
    {
     "data": {
      "text/plain": [
       "array([2, 3, 4, 5])"
      ]
     },
     "execution_count": 40,
     "metadata": {},
     "output_type": "execute_result"
    }
   ],
   "source": [
    "#array加上常數的結果\n",
    "test_array + 1"
   ]
  },
  {
   "cell_type": "code",
   "execution_count": 41,
   "metadata": {},
   "outputs": [
    {
     "data": {
      "text/plain": [
       "array([2, 4, 6, 8])"
      ]
     },
     "execution_count": 41,
     "metadata": {},
     "output_type": "execute_result"
    }
   ],
   "source": [
    "#array乘以常數的結果\n",
    "test_array * 2"
   ]
  },
  {
   "cell_type": "code",
   "execution_count": 42,
   "metadata": {},
   "outputs": [
    {
     "data": {
      "text/plain": [
       "array([1.5, 2.4, 3.5, 4.6])"
      ]
     },
     "execution_count": 42,
     "metadata": {},
     "output_type": "execute_result"
    }
   ],
   "source": [
    "#array之間相加的結果\n",
    "test_array 2= np.array([0.5, 0.4, 0.5, 0.6])\n",
    "test_array + test_array2"
   ]
  },
  {
   "cell_type": "code",
   "execution_count": 43,
   "metadata": {},
   "outputs": [
    {
     "data": {
      "text/plain": [
       "array([0.5, 1.6, 2.5, 3.4])"
      ]
     },
     "execution_count": 43,
     "metadata": {},
     "output_type": "execute_result"
    }
   ],
   "source": [
    "#array之間相減的結果\n",
    "test_array-test_array2"
   ]
  },
  {
   "cell_type": "code",
   "execution_count": 44,
   "metadata": {},
   "outputs": [
    {
     "data": {
      "text/plain": [
       "array([0.5, 0.8, 1.5, 2.4])"
      ]
     },
     "execution_count": 44,
     "metadata": {},
     "output_type": "execute_result"
    }
   ],
   "source": [
    "#array之間相乘的結果\n",
    "test_array*test_array2"
   ]
  },
  {
   "cell_type": "code",
   "execution_count": 46,
   "metadata": {},
   "outputs": [
    {
     "data": {
      "text/plain": [
       "array([2.        , 5.        , 6.        , 6.66666667])"
      ]
     },
     "execution_count": 46,
     "metadata": {},
     "output_type": "execute_result"
    }
   ],
   "source": [
    "#array之間相除的結果\n",
    "test_array/test_array2"
   ]
  },
  {
   "cell_type": "markdown",
   "metadata": {},
   "source": [
    "array的特殊功能"
   ]
  },
  {
   "cell_type": "code",
   "execution_count": 51,
   "metadata": {},
   "outputs": [
    {
     "data": {
      "text/plain": [
       "10"
      ]
     },
     "execution_count": 51,
     "metadata": {},
     "output_type": "execute_result"
    }
   ],
   "source": [
    "#array加總的結果\n",
    "test_array.sum()"
   ]
  },
  {
   "cell_type": "code",
   "execution_count": 47,
   "metadata": {},
   "outputs": [
    {
     "data": {
      "text/plain": [
       "5.2"
      ]
     },
     "execution_count": 47,
     "metadata": {},
     "output_type": "execute_result"
    }
   ],
   "source": [
    "#array的內積(array具有數學上矩陣的性質)\n",
    "#矩陣內積口訣，橫乘直的加總\n",
    "#python內積時，如果第二個矩陣是一維的，會自動把第二個矩陣transpose(橫轉直)\n",
    "np.dot(test_array, test_array2)"
   ]
  },
  {
   "cell_type": "code",
   "execution_count": 49,
   "metadata": {},
   "outputs": [
    {
     "data": {
      "text/plain": [
       "array([30, 60])"
      ]
     },
     "execution_count": 49,
     "metadata": {},
     "output_type": "execute_result"
    }
   ],
   "source": [
    "#如果要處理超過一維的矩陣，而列與行的數量不一致時，就要手動transpose\n",
    "test_array3 = np.array([[1,2,3,4],\n",
    "                      [2,4,6,8]])\n",
    "np.dot(test_array, np.transpose(test_array3))"
   ]
  },
  {
   "cell_type": "code",
   "execution_count": 50,
   "metadata": {},
   "outputs": [
    {
     "data": {
      "text/plain": [
       "array([[1, 2],\n",
       "       [2, 4],\n",
       "       [3, 6],\n",
       "       [4, 8]])"
      ]
     },
     "execution_count": 50,
     "metadata": {},
     "output_type": "execute_result"
    }
   ],
   "source": [
    "#看一下transpose的結果\n",
    "np.transpose(test_array3)"
   ]
  },
  {
   "cell_type": "markdown",
   "metadata": {},
   "source": [
    "用array的內積來算加權平均"
   ]
  },
  {
   "cell_type": "code",
   "execution_count": 52,
   "metadata": {},
   "outputs": [],
   "source": [
    "grades=np.array([[70,75,80],\n",
    "                [75,75,80],\n",
    "                [80,70,75]])\n",
    "weight=np.array([0.3,0.4,0.3])"
   ]
  },
  {
   "cell_type": "code",
   "execution_count": 54,
   "metadata": {},
   "outputs": [
    {
     "data": {
      "text/plain": [
       "array([75. , 76.5, 74.5])"
      ]
     },
     "execution_count": 54,
     "metadata": {},
     "output_type": "execute_result"
    }
   ],
   "source": [
    "average=np.dot(grades, weight)\n",
    "average"
   ]
  },
  {
   "cell_type": "markdown",
   "metadata": {},
   "source": [
    "array的\"形狀\""
   ]
  },
  {
   "cell_type": "code",
   "execution_count": 58,
   "metadata": {},
   "outputs": [
    {
     "data": {
      "text/plain": [
       "array([0.84703733, 0.7837494 , 0.97515707, 0.42482561, 0.34158375,\n",
       "       0.7408315 , 0.41712274, 0.4997353 , 0.44071228, 0.848158  ,\n",
       "       0.02006426, 0.62879769, 0.68995164, 0.82384528, 0.03182174,\n",
       "       0.51529504, 0.98851615, 0.74948911, 0.88482249, 0.459162  ,\n",
       "       0.21211653, 0.54707645, 0.49694943, 0.3258931 , 0.5346936 ,\n",
       "       0.78581899, 0.89079731, 0.16909923, 0.7340517 , 0.5077669 ,\n",
       "       0.69503042, 0.30683392, 0.4616383 , 0.69197667, 0.76881175,\n",
       "       0.786978  , 0.17708325, 0.55228749, 0.66782245, 0.90269338,\n",
       "       0.71194354, 0.95611188, 0.19374508, 0.95006643, 0.07828469,\n",
       "       0.66426611, 0.32764439, 0.37114155, 0.97533935, 0.40009303,\n",
       "       0.75125021, 0.11284647, 0.29673414, 0.18044877, 0.70761939,\n",
       "       0.13039214, 0.1823911 , 0.75914482, 0.02942409, 0.6938798 ,\n",
       "       0.53153717, 0.23408811, 0.20058529, 0.35115228, 0.25785571,\n",
       "       0.04525013, 0.42960968, 0.90920562, 0.56723296, 0.37966288,\n",
       "       0.13374656, 0.1434459 , 0.36056059, 0.37260398, 0.2828047 ,\n",
       "       0.16877126, 0.05616569, 0.83244871, 0.52636439, 0.63760714,\n",
       "       0.59360623, 0.95420449, 0.72921245, 0.98272935, 0.08787392,\n",
       "       0.81232463, 0.63767577, 0.59101787, 0.74799069, 0.3157191 ,\n",
       "       0.5509    , 0.85778173, 0.2133496 , 0.05967543, 0.18871363,\n",
       "       0.21030284, 0.09667551, 0.29868604, 0.08780046, 0.37473273])"
      ]
     },
     "execution_count": 58,
     "metadata": {},
     "output_type": "execute_result"
    }
   ],
   "source": [
    "#剛剛說到矩陣計算內積的時候，前列後行的數量不一致時回出問題\n",
    "#我們就先來看看行和列的數量\n",
    "r = np.random.random(100)\n",
    "r"
   ]
  },
  {
   "cell_type": "code",
   "execution_count": 59,
   "metadata": {},
   "outputs": [
    {
     "data": {
      "text/plain": [
       "(100,)"
      ]
     },
     "execution_count": 59,
     "metadata": {},
     "output_type": "execute_result"
    }
   ],
   "source": [
    "r.shape"
   ]
  },
  {
   "cell_type": "code",
   "execution_count": 56,
   "metadata": {},
   "outputs": [
    {
     "data": {
      "text/plain": [
       "(25, 4)"
      ]
     },
     "execution_count": 56,
     "metadata": {},
     "output_type": "execute_result"
    }
   ],
   "source": [
    "#我們可以改變它的行與列的數量，只要行列相乘等於元素數量就可以\n",
    "r.shape=(25,4) #(列, 行)\n",
    "r.shape"
   ]
  },
  {
   "cell_type": "code",
   "execution_count": 57,
   "metadata": {},
   "outputs": [
    {
     "data": {
      "text/plain": [
       "array([[0.64960582, 0.96720294, 0.70695786, 0.38740827],\n",
       "       [0.86283826, 0.11547395, 0.98010627, 0.69557399],\n",
       "       [0.15312044, 0.68997026, 0.65857641, 0.7233184 ],\n",
       "       [0.1729593 , 0.10886457, 0.67219282, 0.92690988],\n",
       "       [0.03863313, 0.060829  , 0.58750428, 0.30067219],\n",
       "       [0.617657  , 0.48150415, 0.33974397, 0.92787079],\n",
       "       [0.20180899, 0.9570924 , 0.96002715, 0.97330863],\n",
       "       [0.17440027, 0.20793915, 0.72440561, 0.4055789 ],\n",
       "       [0.496345  , 0.28120681, 0.33214155, 0.82958591],\n",
       "       [0.09049182, 0.44397792, 0.95081584, 0.32006889],\n",
       "       [0.67112933, 0.25632753, 0.28523349, 0.65608103],\n",
       "       [0.93008457, 0.50597136, 0.1581749 , 0.45755532],\n",
       "       [0.7488926 , 0.14750084, 0.19848873, 0.78761522],\n",
       "       [0.95583001, 0.40436439, 0.3967461 , 0.82435176],\n",
       "       [0.24764572, 0.89391626, 0.2717458 , 0.93854143],\n",
       "       [0.09976724, 0.36030999, 0.39722664, 0.10199742],\n",
       "       [0.62227817, 0.12208561, 0.20196336, 0.4678778 ],\n",
       "       [0.06307865, 0.98975113, 0.30141094, 0.0050445 ],\n",
       "       [0.99070814, 0.82884503, 0.88438149, 0.16340562],\n",
       "       [0.69795266, 0.79012926, 0.58359009, 0.16863363],\n",
       "       [0.69316815, 0.2575885 , 0.92590201, 0.10715612],\n",
       "       [0.87782508, 0.65876477, 0.7575005 , 0.7021389 ],\n",
       "       [0.93279645, 0.86626174, 0.02765031, 0.0502437 ],\n",
       "       [0.50259721, 0.07197747, 0.71069025, 0.92648933],\n",
       "       [0.57531141, 0.24446325, 0.05737014, 0.16762275]])"
      ]
     },
     "execution_count": 57,
     "metadata": {},
     "output_type": "execute_result"
    }
   ],
   "source": [
    "r"
   ]
  },
  {
   "cell_type": "code",
   "execution_count": 63,
   "metadata": {},
   "outputs": [
    {
     "data": {
      "text/plain": [
       "(25, 4)"
      ]
     },
     "execution_count": 63,
     "metadata": {},
     "output_type": "execute_result"
    }
   ],
   "source": [
    "#或是\n",
    "new_r=r.reshape(25,4)\n",
    "new_r.shape"
   ]
  },
  {
   "cell_type": "code",
   "execution_count": 65,
   "metadata": {},
   "outputs": [
    {
     "data": {
      "text/plain": [
       "array([[0.84703733, 0.7837494 , 0.97515707, 0.42482561],\n",
       "       [0.34158375, 0.7408315 , 0.41712274, 0.4997353 ],\n",
       "       [0.44071228, 0.848158  , 0.02006426, 0.62879769],\n",
       "       [0.68995164, 0.82384528, 0.03182174, 0.51529504],\n",
       "       [0.98851615, 0.74948911, 0.88482249, 0.459162  ],\n",
       "       [0.21211653, 0.54707645, 0.49694943, 0.3258931 ],\n",
       "       [0.5346936 , 0.78581899, 0.89079731, 0.16909923],\n",
       "       [0.7340517 , 0.5077669 , 0.69503042, 0.30683392],\n",
       "       [0.4616383 , 0.69197667, 0.76881175, 0.786978  ],\n",
       "       [0.17708325, 0.55228749, 0.66782245, 0.90269338],\n",
       "       [0.71194354, 0.95611188, 0.19374508, 0.95006643],\n",
       "       [0.07828469, 0.66426611, 0.32764439, 0.37114155],\n",
       "       [0.97533935, 0.40009303, 0.75125021, 0.11284647],\n",
       "       [0.29673414, 0.18044877, 0.70761939, 0.13039214],\n",
       "       [0.1823911 , 0.75914482, 0.02942409, 0.6938798 ],\n",
       "       [0.53153717, 0.23408811, 0.20058529, 0.35115228],\n",
       "       [0.25785571, 0.04525013, 0.42960968, 0.90920562],\n",
       "       [0.56723296, 0.37966288, 0.13374656, 0.1434459 ],\n",
       "       [0.36056059, 0.37260398, 0.2828047 , 0.16877126],\n",
       "       [0.05616569, 0.83244871, 0.52636439, 0.63760714],\n",
       "       [0.59360623, 0.95420449, 0.72921245, 0.98272935],\n",
       "       [0.08787392, 0.81232463, 0.63767577, 0.59101787],\n",
       "       [0.74799069, 0.3157191 , 0.5509    , 0.85778173],\n",
       "       [0.2133496 , 0.05967543, 0.18871363, 0.21030284],\n",
       "       [0.09667551, 0.29868604, 0.08780046, 0.37473273]])"
      ]
     },
     "execution_count": 65,
     "metadata": {},
     "output_type": "execute_result"
    }
   ],
   "source": [
    "new_r"
   ]
  },
  {
   "cell_type": "code",
   "execution_count": 66,
   "metadata": {},
   "outputs": [
    {
     "data": {
      "text/plain": [
       "array([70.39309815, 50.73556163, 47.12411833, 44.94287537, 69.78609854,\n",
       "       41.00690106, 54.55120456, 50.62012448, 72.99938872, 68.95899072,\n",
       "       70.05668254, 38.74316288, 44.80661949, 33.02058417, 45.64472189,\n",
       "       30.06078362, 52.74007499, 23.01582029, 26.29267679, 58.50584833,\n",
       "       86.2056997 , 59.8962198 , 64.63255819, 17.40052731, 24.56379872])"
      ]
     },
     "execution_count": 66,
     "metadata": {},
     "output_type": "execute_result"
    }
   ],
   "source": [
    "#我們就可以這樣算\n",
    "res=np.dot(new_r, np.array([10,20,30,40]))\n",
    "res"
   ]
  },
  {
   "cell_type": "markdown",
   "metadata": {},
   "source": [
    "快速生成array的方法"
   ]
  },
  {
   "cell_type": "code",
   "execution_count": 68,
   "metadata": {},
   "outputs": [
    {
     "data": {
      "text/plain": [
       "array([[0, 0],\n",
       "       [0, 1],\n",
       "       [0, 2],\n",
       "       [0, 3],\n",
       "       [0, 4],\n",
       "       [1, 0],\n",
       "       [1, 1],\n",
       "       [1, 2],\n",
       "       [1, 3],\n",
       "       [1, 4],\n",
       "       [2, 0],\n",
       "       [2, 1],\n",
       "       [2, 2],\n",
       "       [2, 3],\n",
       "       [2, 4],\n",
       "       [3, 0],\n",
       "       [3, 1],\n",
       "       [3, 2],\n",
       "       [3, 3],\n",
       "       [3, 4],\n",
       "       [4, 0],\n",
       "       [4, 1],\n",
       "       [4, 2],\n",
       "       [4, 3],\n",
       "       [4, 4]])"
      ]
     },
     "execution_count": 68,
     "metadata": {},
     "output_type": "execute_result"
    }
   ],
   "source": [
    "#生成x={0,1,2,3,4}, y={0,1,2,3,4}, 組成為[x,y]的array\n",
    "fast_array = np.array([[x, y] for x in range(5) for y in range(5)])\n",
    "fast_array"
   ]
  },
  {
   "cell_type": "code",
   "execution_count": 69,
   "metadata": {},
   "outputs": [
    {
     "data": {
      "text/plain": [
       "array([0., 0., 0., 0., 0., 0., 0., 0., 0., 0.])"
      ]
     },
     "execution_count": 69,
     "metadata": {},
     "output_type": "execute_result"
    }
   ],
   "source": [
    "#產生所有元素都是0的array\n",
    "z = np.zeros(10)\n",
    "z"
   ]
  },
  {
   "cell_type": "code",
   "execution_count": 71,
   "metadata": {},
   "outputs": [
    {
     "data": {
      "text/plain": [
       "array([[0., 0., 0.],\n",
       "       [0., 0., 0.]])"
      ]
     },
     "execution_count": 71,
     "metadata": {},
     "output_type": "execute_result"
    }
   ],
   "source": [
    "#也可以用list或array指定形狀\n",
    "z = np.zeros([2,3])\n",
    "z"
   ]
  },
  {
   "cell_type": "code",
   "execution_count": 73,
   "metadata": {},
   "outputs": [
    {
     "data": {
      "text/plain": [
       "array([1., 1., 1., 1., 1., 1., 1., 1., 1., 1.])"
      ]
     },
     "execution_count": 73,
     "metadata": {},
     "output_type": "execute_result"
    }
   ],
   "source": [
    "#產生所有元素都是1的array\n",
    "o = np.ones(10)\n",
    "o"
   ]
  },
  {
   "cell_type": "code",
   "execution_count": 76,
   "metadata": {},
   "outputs": [
    {
     "data": {
      "text/plain": [
       "array([[1., 1., 1.],\n",
       "       [1., 1., 1.]])"
      ]
     },
     "execution_count": 76,
     "metadata": {},
     "output_type": "execute_result"
    }
   ],
   "source": [
    "#也可以用list或array指定形狀\n",
    "o = np.ones((2,3))\n",
    "o"
   ]
  },
  {
   "cell_type": "code",
   "execution_count": 77,
   "metadata": {},
   "outputs": [
    {
     "data": {
      "text/plain": [
       "array([[1., 0., 0., 0., 0., 0., 0.],\n",
       "       [0., 1., 0., 0., 0., 0., 0.],\n",
       "       [0., 0., 1., 0., 0., 0., 0.],\n",
       "       [0., 0., 0., 1., 0., 0., 0.],\n",
       "       [0., 0., 0., 0., 1., 0., 0.],\n",
       "       [0., 0., 0., 0., 0., 1., 0.],\n",
       "       [0., 0., 0., 0., 0., 0., 1.]])"
      ]
     },
     "execution_count": 77,
     "metadata": {},
     "output_type": "execute_result"
    }
   ],
   "source": [
    "#生成identity array(特性是其他array和它相乘，內積結果跟原始array一樣)\n",
    "e = np.eye(7)\n",
    "e"
   ]
  },
  {
   "cell_type": "code",
   "execution_count": 79,
   "metadata": {},
   "outputs": [
    {
     "data": {
      "text/plain": [
       "array([[ 0,  1,  2,  3,  4,  5,  6],\n",
       "       [ 7,  8,  9, 10, 11, 12, 13],\n",
       "       [14, 15, 16, 17, 18, 19, 20],\n",
       "       [21, 22, 23, 24, 25, 26, 27]])"
      ]
     },
     "execution_count": 79,
     "metadata": {},
     "output_type": "execute_result"
    }
   ],
   "source": [
    "rn = np.arange(28).reshape(4,7)\n",
    "rn"
   ]
  },
  {
   "cell_type": "code",
   "execution_count": 80,
   "metadata": {},
   "outputs": [
    {
     "data": {
      "text/plain": [
       "array([[ 0.,  1.,  2.,  3.,  4.,  5.,  6.],\n",
       "       [ 7.,  8.,  9., 10., 11., 12., 13.],\n",
       "       [14., 15., 16., 17., 18., 19., 20.],\n",
       "       [21., 22., 23., 24., 25., 26., 27.]])"
      ]
     },
     "execution_count": 80,
     "metadata": {},
     "output_type": "execute_result"
    }
   ],
   "source": [
    "np.dot(rn, e)"
   ]
  },
  {
   "cell_type": "code",
   "execution_count": null,
   "metadata": {},
   "outputs": [],
   "source": []
  }
 ],
 "metadata": {
  "kernelspec": {
   "display_name": "Python 3",
   "language": "python",
   "name": "python3"
  },
  "language_info": {
   "codemirror_mode": {
    "name": "ipython",
    "version": 3
   },
   "file_extension": ".py",
   "mimetype": "text/x-python",
   "name": "python",
   "nbconvert_exporter": "python",
   "pygments_lexer": "ipython3",
   "version": "3.7.0"
  }
 },
 "nbformat": 4,
 "nbformat_minor": 2
}
