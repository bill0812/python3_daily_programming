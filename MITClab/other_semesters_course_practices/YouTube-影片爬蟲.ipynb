{
 "cells": [
  {
   "cell_type": "markdown",
   "metadata": {},
   "source": [
    "## # 首先 mac打開cmd 輸入：pip install pytube \n",
    "## # 而windows 則是打開anaconda prompt輸入一樣內容"
   ]
  },
  {
   "cell_type": "code",
   "execution_count": null,
   "metadata": {},
   "outputs": [],
   "source": [
    "import requests\n",
    "from pytube import YouTube\n",
    "import re\n",
    "import os #os可以使你的python與你的作業系統互動\n",
    "urltext = \"https://www.youtube.com/watch?v=jtxhL-XnnSg\""
   ]
  },
  {
   "cell_type": "code",
   "execution_count": null,
   "metadata": {},
   "outputs": [],
   "source": [
    "yt=YouTube(urltext2) #存放影片位置"
   ]
  },
  {
   "cell_type": "code",
   "execution_count": null,
   "metadata": {},
   "outputs": [],
   "source": [
    "print(yt.title)"
   ]
  },
  {
   "cell_type": "code",
   "execution_count": null,
   "metadata": {},
   "outputs": [],
   "source": [
    "yt.streams.all() #回傳所有影片格式 #mine_type影片格式 resolution解析度 vcodec影片編碼 acodec聲音編碼"
   ]
  },
  {
   "cell_type": "code",
   "execution_count": null,
   "metadata": {},
   "outputs": [],
   "source": [
    "yt.streams.filter(mime_type=\"video/webm\",res=\"1080p\").all()  #參數介紹"
   ]
  },
  {
   "cell_type": "code",
   "execution_count": null,
   "metadata": {},
   "outputs": [],
   "source": [
    "yt.streams.filter(mime_type=\"audio/webm\").all() #abr這個參數你只要知道abr越高音樂品質越好 "
   ]
  },
  {
   "cell_type": "code",
   "execution_count": null,
   "metadata": {},
   "outputs": [],
   "source": [
    "#如果要下載需注意download要放在first或是last的後面\n",
    "yt.streams.filter(mime_type=\"video/mp4\",res=\"1080p\").last().download(\"/Users/manachu/Desktop/\")"
   ]
  },
  {
   "cell_type": "code",
   "execution_count": null,
   "metadata": {},
   "outputs": [],
   "source": [
    "yt.streams.filter(mime_type=\"audio/webm\").last().download(\"/Users/manachu/Desktop/\")"
   ]
  },
  {
   "cell_type": "code",
   "execution_count": null,
   "metadata": {},
   "outputs": [],
   "source": [
    "pathdir=\"download\"\n",
    "if not os.path.isdir(pathdir):\n",
    "    os.mkdir(pathdir)\n",
    "else:\n",
    "    print(\"資料夾已存在\")"
   ]
  },
  {
   "cell_type": "code",
   "execution_count": null,
   "metadata": {},
   "outputs": [],
   "source": [
    "import requests\n",
    "urltext=\"?v=7GU3nztxQx4&list=PLJHYlB0OkmB41Jk9pWxT-kkCr0Ge2eKI2\"\n",
    "url=\"https://www.youtube.com/watch\"\n",
    "html=requests.get(url+urltext)  #requeset.get相當於像你括弧內的HTTP發送一個請求，然後從HTTP把網頁原始碼抓取下來放進html這個變數裡\n",
    "\n",
    "#接下來用正則表達式(用一定規則的方法)去搜取你所要的字串\n",
    "result=re.findall(r\"/watch[-A-Za-z0-9+&@#/%?=~_|!:,.;]+\", html.text) #通常會加r告訴re這個函數說r後面的是正則表達式，第二個參數是搜尋的字串"
   ]
  },
  {
   "cell_type": "code",
   "execution_count": null,
   "metadata": {},
   "outputs": [],
   "source": [
    "result"
   ]
  },
  {
   "cell_type": "code",
   "execution_count": null,
   "metadata": {},
   "outputs": [],
   "source": [
    "videourlList=[]\n",
    "for i in result:\n",
    "    if 'list=' and 'index=' in i: #必須包含list=及index=\n",
    "        if i not in videourlList:  #如果串列中不存在就加入串列\n",
    "            videourlList.append(i)"
   ]
  },
  {
   "cell_type": "code",
   "execution_count": null,
   "metadata": {},
   "outputs": [],
   "source": [
    "videourlList"
   ]
  },
  {
   "cell_type": "code",
   "execution_count": null,
   "metadata": {},
   "outputs": [],
   "source": [
    "print('開始下載：')\n",
    "n = 1\n",
    "for video in videourlList:\n",
    "    yt = YouTube(\"https://www.youtube.com\" + video)\n",
    "    print(str(n) + \". \" + yt.title)  #顯示標題\n",
    "    yt.streams.filter(mime_type=\"audio/webm\").first().download(pathdir)  #下載音欓\n",
    "    n = n + 1\n",
    "print('下載完成！')"
   ]
  },
  {
   "cell_type": "markdown",
   "metadata": {},
   "source": [
    " # YouTube 為了防止盜版所以讓YouTube的影片和音檔分開不讓你一次下載，如果你想下載影片必須執行以下操作 (這我上課沒講)"
   ]
  },
  {
   "cell_type": "markdown",
   "metadata": {},
   "source": [
    " mac打開cmd  windows則是打開anaconda prompt 輸入:pip install ffmpeg-python  "
   ]
  },
  {
   "cell_type": "code",
   "execution_count": null,
   "metadata": {},
   "outputs": [],
   "source": [
    "import ffmpeg"
   ]
  },
  {
   "cell_type": "markdown",
   "metadata": {},
   "source": [
    "除非你顯卡很好，否則會執行merge很久"
   ]
  },
  {
   "cell_type": "code",
   "execution_count": null,
   "metadata": {},
   "outputs": [],
   "source": [
    "video_stream = ffmpeg.input('/Users/manachu/Desktop/【HD】夏目友人帳 Natsumes Book of Friends - Aimer - 茜さす【中日字幕】.mp4')\n",
    "audio_stream = ffmpeg.input('/Users/manachu/Desktop/【HD】夏目友人帳 Natsumes Book of Friends - Aimer - 茜さす【中日字幕】.webm')\n",
    "ffmpeg.output(audio_stream, video_stream, '/Users/manachu/Desktop/out.mp4').run()"
   ]
  }
 ],
 "metadata": {
  "kernelspec": {
   "display_name": "Python 3",
   "language": "python",
   "name": "python3"
  },
  "language_info": {
   "codemirror_mode": {
    "name": "ipython",
    "version": 3
   },
   "file_extension": ".py",
   "mimetype": "text/x-python",
   "name": "python",
   "nbconvert_exporter": "python",
   "pygments_lexer": "ipython3",
   "version": "3.6.8"
  }
 },
 "nbformat": 4,
 "nbformat_minor": 2
}
