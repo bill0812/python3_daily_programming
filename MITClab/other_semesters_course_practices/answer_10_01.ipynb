{
 "cells": [
  {
   "cell_type": "markdown",
   "metadata": {},
   "source": [
    "## Problem 2"
   ]
  },
  {
   "cell_type": "code",
   "execution_count": 1,
   "metadata": {},
   "outputs": [],
   "source": [
    "def f(x,y):\n",
    "    import random\n",
    "    return x*y*random.randint(0,50)"
   ]
  },
  {
   "cell_type": "markdown",
   "metadata": {},
   "source": [
    "## Problem 3"
   ]
  },
  {
   "cell_type": "code",
   "execution_count": 6,
   "metadata": {},
   "outputs": [
    {
     "data": {
      "text/plain": [
       "'左撇子'"
      ]
     },
     "execution_count": 6,
     "metadata": {},
     "output_type": "execute_result"
    }
   ],
   "source": [
    "import random\n",
    "\n",
    "res = [\"subway\",\"juicy bun\",\"Mcdonald\",\"Mos\",\"左撇子\"]\n",
    "today = random.randint(0,len(res)-1)\n",
    "res[today]"
   ]
  },
  {
   "cell_type": "markdown",
   "metadata": {},
   "source": [
    "## Problem 4"
   ]
  },
  {
   "cell_type": "code",
   "execution_count": 12,
   "metadata": {},
   "outputs": [
    {
     "name": "stdout",
     "output_type": "stream",
     "text": [
      "guess a number~2\n",
      "your number  2  is too small, try bigger one\n",
      "you still have 4 choice\n",
      "guess a number~2\n",
      "your number  2  is too small, try bigger one\n",
      "you still have 3 choice\n",
      "guess a number~2\n",
      "your number  2  is too small, try bigger one\n",
      "you still have 2 choice\n",
      "guess a number~2\n",
      "your number  2  is too small, try bigger one\n",
      "you still have 1 choice\n",
      "guess a number~2\n",
      "your number  2  is too small, try bigger one\n",
      "you still have 0 choice\n",
      "your are out of choice\n"
     ]
    }
   ],
   "source": [
    "ans = random.randint(1,100)\n",
    "count_times = 0\n",
    "limit_times = 5\n",
    "while 1 > 0:\n",
    "    guess = input(\"guess a number~\")\n",
    "    guess = int(guess)\n",
    "    \n",
    "    if ans > guess:\n",
    "        print(\"your number \",guess, \" is too small, try bigger one\")\n",
    "        print(\"you still have\", limit_times - count_times -1, \"choice\")\n",
    "        \n",
    "    if ans < guess:\n",
    "        print(\"your number \",guess, \" is too big, try smaller one\")\n",
    "        print(\"you still have\", limit_times - count_times -1, \"choice\")\n",
    "        \n",
    "    if ans == guess:\n",
    "        print(\"you are soooooo good, correct answer\")\n",
    "        break\n",
    "        \n",
    "    count_times += 1 ## count_times = count_times+1\n",
    "    \n",
    "    if count_times == limit_times:\n",
    "        print(\"your are out of choice\")\n",
    "        break"
   ]
  },
  {
   "cell_type": "markdown",
   "metadata": {},
   "source": [
    "## Practice 1\n",
    "[1. Note : 以108/10的中獎號碼跟獎金為主](https://www.taiwanlottery.com.tw/lotto/lotto649/history.aspx)"
   ]
  },
  {
   "cell_type": "code",
   "execution_count": 31,
   "metadata": {},
   "outputs": [],
   "source": [
    "winning_numbers = [2,9,12,15,20,49,40] "
   ]
  },
  {
   "cell_type": "code",
   "execution_count": 32,
   "metadata": {},
   "outputs": [],
   "source": [
    "## create your 50 lottery\n",
    "\n",
    "ALL_L = list()\n",
    "for j in range(50):\n",
    "    L = list()\n",
    "    for i in range(6):\n",
    "        p = [ i for i in range(1,50)] ## 大樂透到1~49\n",
    "        tmp_index = random.randint(0,48-i) ## 注意indexing \n",
    "        L.append(p.pop(tmp_index))\n",
    "    ALL_L.append(L)"
   ]
  },
  {
   "cell_type": "code",
   "execution_count": 33,
   "metadata": {},
   "outputs": [
    {
     "data": {
      "text/plain": [
       "[27, 22, 9, 23, 35, 32]"
      ]
     },
     "execution_count": 33,
     "metadata": {},
     "output_type": "execute_result"
    }
   ],
   "source": [
    "L"
   ]
  },
  {
   "cell_type": "code",
   "execution_count": 34,
   "metadata": {},
   "outputs": [
    {
     "data": {
      "text/plain": [
       "[[10, 22, 44, 45, 8, 43],\n",
       " [29, 43, 33, 39, 7, 30],\n",
       " [42, 29, 26, 35, 9, 34],\n",
       " [22, 15, 21, 12, 22, 4],\n",
       " [31, 17, 43, 2, 23, 10],\n",
       " [10, 23, 17, 24, 35, 24],\n",
       " [1, 11, 19, 24, 23, 44],\n",
       " [37, 40, 35, 23, 15, 24],\n",
       " [7, 35, 20, 41, 23, 24],\n",
       " [3, 1, 4, 36, 44, 13],\n",
       " [11, 5, 6, 4, 23, 39],\n",
       " [42, 21, 23, 19, 19, 44],\n",
       " [33, 1, 46, 2, 21, 10],\n",
       " [48, 24, 31, 32, 30, 28],\n",
       " [31, 22, 18, 23, 13, 13],\n",
       " [39, 17, 37, 33, 24, 43],\n",
       " [26, 9, 22, 19, 20, 17],\n",
       " [32, 9, 27, 36, 42, 9],\n",
       " [44, 3, 16, 11, 17, 37],\n",
       " [27, 30, 38, 36, 14, 17],\n",
       " [23, 22, 29, 26, 18, 15],\n",
       " [20, 21, 10, 32, 26, 34],\n",
       " [1, 43, 5, 4, 7, 27],\n",
       " [20, 40, 44, 36, 44, 18],\n",
       " [28, 3, 19, 6, 21, 42],\n",
       " [33, 31, 33, 40, 31, 15],\n",
       " [48, 12, 42, 30, 32, 13],\n",
       " [7, 5, 44, 2, 11, 15],\n",
       " [7, 16, 46, 13, 1, 30],\n",
       " [12, 17, 32, 11, 36, 38],\n",
       " [11, 46, 41, 24, 32, 36],\n",
       " [28, 23, 9, 23, 6, 30],\n",
       " [4, 7, 36, 4, 35, 2],\n",
       " [28, 26, 15, 30, 16, 30],\n",
       " [42, 28, 35, 43, 1, 39],\n",
       " [20, 21, 39, 40, 36, 37],\n",
       " [1, 22, 13, 14, 6, 33],\n",
       " [7, 7, 4, 34, 43, 18],\n",
       " [13, 27, 31, 40, 38, 21],\n",
       " [31, 42, 27, 18, 3, 15],\n",
       " [20, 42, 22, 2, 37, 23],\n",
       " [40, 23, 32, 39, 33, 11],\n",
       " [45, 8, 26, 43, 36, 39],\n",
       " [21, 47, 4, 27, 10, 34],\n",
       " [20, 33, 47, 24, 39, 25],\n",
       " [44, 19, 11, 2, 28, 26],\n",
       " [1, 32, 9, 40, 16, 2],\n",
       " [7, 33, 13, 34, 3, 18],\n",
       " [45, 43, 41, 34, 28, 13],\n",
       " [27, 22, 9, 23, 35, 32]]"
      ]
     },
     "execution_count": 34,
     "metadata": {},
     "output_type": "execute_result"
    }
   ],
   "source": [
    "ALL_L"
   ]
  },
  {
   "cell_type": "code",
   "execution_count": 35,
   "metadata": {},
   "outputs": [],
   "source": [
    "## 寫一下中獎的判斷式\n",
    "def win_money(win_number, Lottery_number):\n",
    "    money = 0\n",
    "    for i in range(len(win_number)):\n",
    "        if i == len(win_number)-1: ##如果中的是特別號的話(特別號是winning_number的最後一個數)\n",
    "            if win_number[i] in Lottery_number: ##有中特別號的話就會有0.5的數值\n",
    "                money += 0.5\n",
    "                \n",
    "        else: ##中其他的一般號碼\n",
    "            if win_number[i] in Lottery_number:\n",
    "                money += 1\n",
    "    return money"
   ]
  },
  {
   "cell_type": "code",
   "execution_count": 36,
   "metadata": {},
   "outputs": [
    {
     "data": {
      "text/plain": [
       "0"
      ]
     },
     "execution_count": 36,
     "metadata": {},
     "output_type": "execute_result"
    }
   ],
   "source": [
    "win_money(winning_numbers,ALL_L[0]) ## 第一組號碼沒中半個號碼"
   ]
  },
  {
   "cell_type": "code",
   "execution_count": 37,
   "metadata": {},
   "outputs": [
    {
     "data": {
      "text/plain": [
       "1.5"
      ]
     },
     "execution_count": 37,
     "metadata": {},
     "output_type": "execute_result"
    }
   ],
   "source": [
    "win_money(winning_numbers,[2,40]) ##中一個號碼跟一個特別號"
   ]
  },
  {
   "cell_type": "code",
   "execution_count": 38,
   "metadata": {},
   "outputs": [],
   "source": [
    "money_list = list()\n",
    "## money_list[i] = ALL_L[i]的中獎狀況\n",
    "for i in range(len(ALL_L)):\n",
    "    money_list.append(win_money(winning_numbers, ALL_L[i]))"
   ]
  },
  {
   "cell_type": "code",
   "execution_count": 39,
   "metadata": {},
   "outputs": [
    {
     "name": "stdout",
     "output_type": "stream",
     "text": [
      "[0, 0, 1, 2, 1, 0, 0, 1.5, 1, 0, 0, 0, 1, 0, 0, 0, 2, 1, 0, 0, 1, 1, 0, 1.5, 0, 1.5, 1, 2, 0, 1, 0, 1, 1, 1, 0, 1.5, 0, 0, 0.5, 1, 2, 0.5, 0, 0, 1, 1, 2.5, 0, 0, 1]\n"
     ]
    }
   ],
   "source": [
    "print(money_list)"
   ]
  },
  {
   "cell_type": "code",
   "execution_count": 40,
   "metadata": {},
   "outputs": [],
   "source": [
    "##寫一下中獎號碼數跟金額的關係\n",
    "def money_caculate(money_list):\n",
    "    all_you_win = 0 ##記錄所有的中獎金額\n",
    "    for i in range(len(money_list)):\n",
    "        \n",
    "        num = money_list[i]\n",
    "        \n",
    "        if num == 3:\n",
    "            all_you_win +=400\n",
    "        elif num == 2.5: ##兩個號碼加特別號\n",
    "            all_you_win +=400\n",
    "        elif num == 3.5:\n",
    "            all_you_win +=1000\n",
    "        elif num == 4:\n",
    "            all_you_win +=2000\n",
    "        elif num == 4.5:\n",
    "            all_you_win +=11692\n",
    "        elif num == 5:\n",
    "            all_you_win +=42766\n",
    "        elif num == 5.5:\n",
    "            all_you_win +=734662\n",
    "        elif num == 6:\n",
    "            all_you_win +=543735461\n",
    "        else:\n",
    "            pass ## 意思就是當沒執行過\n",
    "        \n",
    "    return all_you_win ##注意一下這行應該在哪個程式碼之下(注意indent 空格數)\n",
    "        "
   ]
  },
  {
   "cell_type": "code",
   "execution_count": 41,
   "metadata": {},
   "outputs": [
    {
     "data": {
      "text/plain": [
       "400"
      ]
     },
     "execution_count": 41,
     "metadata": {},
     "output_type": "execute_result"
    }
   ],
   "source": [
    "money_caculate(money_list)"
   ]
  },
  {
   "cell_type": "code",
   "execution_count": null,
   "metadata": {},
   "outputs": [],
   "source": [
    "## 很不幸的，這50張只中一張"
   ]
  },
  {
   "cell_type": "markdown",
   "metadata": {},
   "source": [
    "## Practice 2"
   ]
  },
  {
   "cell_type": "code",
   "execution_count": 47,
   "metadata": {},
   "outputs": [
    {
     "name": "stdout",
     "output_type": "stream",
     "text": [
      "嗨，今天想聊什麼呢？傷心\n",
      "真的假的\n",
      "嗨，今天想聊什麼呢？悲傷\n",
      "你好可憐，我安慰你\n",
      "嗨，今天想聊什麼呢？開心\n",
      "你開心，我也開心\n",
      "嗨，今天想聊什麼呢？去洗澡了\n",
      "Bye\n"
     ]
    }
   ],
   "source": [
    "while True:\n",
    "    sentence = input(\"嗨，今天想聊什麼呢？\")\n",
    "\n",
    "    if \"悲傷\" in sentence:\n",
    "        print(\"你好可憐，我安慰你\")\n",
    "    elif \"開心\" in sentence:\n",
    "        print(\"你開心，我也開心\")\n",
    "    elif \"去洗澡了\" in sentence:\n",
    "        print(\"Bye\")\n",
    "        break\n",
    "    else:\n",
    "        print(\"真的假的\")"
   ]
  },
  {
   "cell_type": "code",
   "execution_count": 43,
   "metadata": {},
   "outputs": [
    {
     "data": {
      "text/plain": [
       "'我好笨'"
      ]
     },
     "execution_count": 43,
     "metadata": {},
     "output_type": "execute_result"
    }
   ],
   "source": [
    "if "
   ]
  },
  {
   "cell_type": "code",
   "execution_count": 46,
   "metadata": {},
   "outputs": [
    {
     "data": {
      "text/plain": [
       "False"
      ]
     },
     "execution_count": 46,
     "metadata": {},
     "output_type": "execute_result"
    }
   ],
   "source": []
  },
  {
   "cell_type": "code",
   "execution_count": null,
   "metadata": {},
   "outputs": [],
   "source": []
  }
 ],
 "metadata": {
  "kernelspec": {
   "display_name": "Python 3",
   "language": "python",
   "name": "python3"
  },
  "language_info": {
   "codemirror_mode": {
    "name": "ipython",
    "version": 3
   },
   "file_extension": ".py",
   "mimetype": "text/x-python",
   "name": "python",
   "nbconvert_exporter": "python",
   "pygments_lexer": "ipython3",
   "version": "3.6.8"
  }
 },
 "nbformat": 4,
 "nbformat_minor": 2
}
