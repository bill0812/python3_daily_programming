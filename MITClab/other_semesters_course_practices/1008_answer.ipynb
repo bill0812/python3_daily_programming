{
 "cells": [
  {
   "cell_type": "markdown",
   "metadata": {},
   "source": [
    "# problem\n",
    "## 矩陣創造\n",
    "### 創造一個對稱以及一個上三角的方陣\n",
    "- 對稱方陣是n x n的矩陣，他的第i列第j行的值 = 第j列第i行的值，對角線都是0\n",
    "- 上三角方陣是n x n的矩陣，他只有對角線及以上有值\n",
    "* hint:先隨機取一個矩陣，再用迴圈讓不需要的值變0或相等"
   ]
  },
  {
   "cell_type": "code",
   "execution_count": 3,
   "metadata": {},
   "outputs": [],
   "source": [
    "import numpy as np\n",
    "%matplotlib inline \n",
    "import matplotlib.pyplot as plt"
   ]
  },
  {
   "cell_type": "code",
   "execution_count": 6,
   "metadata": {},
   "outputs": [
    {
     "data": {
      "text/plain": [
       "array([[0.        , 0.6057689 , 0.1255774 , 0.63985878],\n",
       "       [0.6057689 , 0.        , 0.52126584, 0.40996236],\n",
       "       [0.1255774 , 0.52126584, 0.        , 0.8111858 ],\n",
       "       [0.63985878, 0.40996236, 0.8111858 , 0.        ]])"
      ]
     },
     "execution_count": 6,
     "metadata": {},
     "output_type": "execute_result"
    }
   ],
   "source": [
    "Array2 = np.random.random(size=(4,4))\n",
    "for i in range(4):\n",
    "    for j in range(4):\n",
    "        if(i > j):\n",
    "            Array2[j][i] = Array2[i][j]\n",
    "        if(i == j):\n",
    "            Array2[j][i] = 0\n",
    "Array2"
   ]
  },
  {
   "cell_type": "code",
   "execution_count": 4,
   "metadata": {},
   "outputs": [
    {
     "data": {
      "text/plain": [
       "array([[0.68009305, 0.14597574, 0.48536339, 0.74834238],\n",
       "       [0.        , 0.77055278, 0.55946497, 0.70455947],\n",
       "       [0.        , 0.        , 0.01996837, 0.06184119],\n",
       "       [0.        , 0.        , 0.        , 0.54941263]])"
      ]
     },
     "execution_count": 4,
     "metadata": {},
     "output_type": "execute_result"
    }
   ],
   "source": [
    "Array1 = np.random.random(size=(4,4))\n",
    "for i in range(4):\n",
    "    for j in range(4):\n",
    "        if(i > j):\n",
    "            Array1[i][j] = 0\n",
    "Array1"
   ]
  },
  {
   "cell_type": "markdown",
   "metadata": {},
   "source": [
    "# problem\n",
    "畫出收入函數以及成本函數圖\n",
    "- $C(x) = 10000 + 16x - 4x^2$\n",
    "- $R(x) = 9 - 7x + 2x^2$\n",
    "- $x$可以用`np.linspace`產出"
   ]
  },
  {
   "cell_type": "code",
   "execution_count": 7,
   "metadata": {},
   "outputs": [
    {
     "data": {
      "text/plain": [
       "[<matplotlib.lines.Line2D at 0x1a1354d36a0>]"
      ]
     },
     "execution_count": 7,
     "metadata": {},
     "output_type": "execute_result"
    },
    {
     "data": {
      "image/png": "[encoded data removed]",
      "text/plain": [
       "<Figure size 432x288 with 1 Axes>"
      ]
     },
     "metadata": {
      "needs_background": "light"
     },
     "output_type": "display_data"
    }
   ],
   "source": [
    "x = np.linspace(0,100, 100)\n",
    "cy = 10000 + x*16 - (x**2)*4\n",
    "ry = 9 - 7*x + (x**2)*2\n",
    "plt.plot(x,cy)\n",
    "plt.plot(x,ry)"
   ]
  },
  {
   "cell_type": "code",
   "execution_count": null,
   "metadata": {},
   "outputs": [],
   "source": []
  }
 ],
 "metadata": {
  "kernelspec": {
   "display_name": "Python 3",
   "language": "python",
   "name": "python3"
  },
  "language_info": {
   "codemirror_mode": {
    "name": "ipython",
    "version": 3
   },
   "file_extension": ".py",
   "mimetype": "text/x-python",
   "name": "python",
   "nbconvert_exporter": "python",
   "pygments_lexer": "ipython3",
   "version": "3.7.3"
  }
 },
 "nbformat": 4,
 "nbformat_minor": 2
}
