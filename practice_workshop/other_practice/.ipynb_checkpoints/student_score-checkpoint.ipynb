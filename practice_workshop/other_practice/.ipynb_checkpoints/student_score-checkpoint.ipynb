{
 "cells": [
  {
   "cell_type": "code",
   "execution_count": 16,
   "metadata": {},
   "outputs": [
    {
     "name": "stdout",
     "output_type": "stream",
     "text": [
      "3\n",
      "No.1 Student's name :A\n",
      "No.1 Student's score :80\n",
      "No.2 Student's name :B\n",
      "No.2 Student's score :65\n",
      "No.3 Student's name :C\n",
      "No.3 Student's score :92\n",
      "The Sum is : 0\n",
      "The Average is : 79.0\n",
      "The Variance is : 122.0\n",
      "The Standard Deviation is : 11.045361017187261\n",
      "Agets a Crab\n",
      "Bgets a Shrimp\n",
      "Cgets a Tuna\n"
     ]
    }
   ],
   "source": [
    "num = int(input())\n",
    "score_dict = dict()\n",
    "student_name , student_score = list() , list()\n",
    "sum_score , average_score , var_score , sd_score = 0 , 0 , 0 , 0\n",
    "\n",
    "for i in range(num):\n",
    "    current_name = input( \"No.\" + str(i+1) + \" Student's name :\")\n",
    "    current_score = input( \"No.\" + str(i+1) + \" Student's score :\")\n",
    "    student_score.append(int(current_score))\n",
    "    score_dict[current_name] = current_score\n",
    "    \n",
    "sum_score = sum(student_score)\n",
    "average_score = float(sum(student_score)/num)\n",
    "var_score = sum(((each_student - float(sum(student_score)/num)))** 2 for each_student in student_score) / num \n",
    "sd_score = var_score**0.5\n",
    "\n",
    "print(\"The Sum is : \" + str(sum_num))\n",
    "print(\"The Average is : \" + str(average_score))\n",
    "print(\"The Variance is : \" + str(var_score)) \n",
    "print(\"The Standard Deviation is : \" + str(sd_score))\n",
    "\n",
    "for name , score in score_dict.items():\n",
    "    if int(score) >= average_score + 2*sd_score:\n",
    "        print(str(name) + \" gets a Lobster\")\n",
    "    elif int(score) < average_score + 2*sd_score and int(score) >= average_score + sd_score:\n",
    "        print(str(name) + \" gets a Tuna\")\n",
    "    elif int(score) < average_score + sd_score and int(score) >= average_score - sd_score:\n",
    "        print(str(name) + \" gets a Crab\")\n",
    "    elif int(score) < average_score - sd_score and int(score) >= average_score - 2*sd_score:\n",
    "        print(str(name) + \" gets a Shrimp\")\n",
    "    else:\n",
    "        print(str(name) + \" gets a Oyster\")\n",
    "\n",
    "# 標準差(σ) = 變異數**0.5\n",
    "# 變異數 = (班平均(μ)-個人分數)**2的加總 / 全班人數"
   ]
  },
  {
   "cell_type": "code",
   "execution_count": 3,
   "metadata": {},
   "outputs": [
    {
     "name": "stdout",
     "output_type": "stream",
     "text": [
      "30\n"
     ]
    }
   ],
   "source": [
    "squares = sum([1, 4, 9, 16])\n",
    "print(squares)"
   ]
  },
  {
   "cell_type": "code",
   "execution_count": null,
   "metadata": {},
   "outputs": [],
   "source": []
  }
 ],
 "metadata": {
  "kernelspec": {
   "display_name": "Python 3",
   "language": "python",
   "name": "python3"
  },
  "language_info": {
   "codemirror_mode": {
    "name": "ipython",
    "version": 3
   },
   "file_extension": ".py",
   "mimetype": "text/x-python",
   "name": "python",
   "nbconvert_exporter": "python",
   "pygments_lexer": "ipython3",
   "version": "3.6.4"
  }
 },
 "nbformat": 4,
 "nbformat_minor": 2
}
