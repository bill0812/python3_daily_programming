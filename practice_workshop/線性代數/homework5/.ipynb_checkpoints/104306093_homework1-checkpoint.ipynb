{
 "cells": [
  {
   "cell_type": "code",
   "execution_count": 35,
   "metadata": {},
   "outputs": [],
   "source": [
    "%matplotlib inline\n",
    "\n",
    "import numpy as np\n",
    "import matplotlib.pyplot as plt\n",
    "import sympy as sp\n",
    "\n",
    "# import x ,y variable from sympy\n",
    "from sympy.abc import x,y\n",
    "\n",
    "#用 sympy 初始化可以寫出公式 和 印出 x 符號\n",
    "sp.init_printing()\n",
    "x = sp.symbols('x')"
   ]
  },
  {
   "cell_type": "markdown",
   "metadata": {},
   "source": [
    "# 擴充 \n",
    "\n",
    "## <font style=\"color:red\">$$S = \\{1+x+x^2+x^3, 1-3x^2\\}$$ </font>\n",
    "\n",
    "### 成一個 <font style=\"color:red\">$P_3(\\mathbb{R})$</font> 的基底。"
   ]
  },
  {
   "cell_type": "markdown",
   "metadata": {},
   "source": [
    "### First ,that's see : $$S = 1 + x + x^2 + x^3 $$"
   ]
  },
  {
   "cell_type": "code",
   "execution_count": 39,
   "metadata": {},
   "outputs": [],
   "source": [
    "S1 = 3*x**2 - 2*x + 8\n",
    "S1\n",
    "S1_poly = sp.poly(S1)\n",
    "# print(\"coefficients of \"+ (S1) +  \" is :\" + str(S1_poly.coeffs()))"
   ]
  },
  {
   "cell_type": "code",
   "execution_count": 20,
   "metadata": {},
   "outputs": [],
   "source": [
    "A = sp.Matrix([[1, 1, 1, 1], [-3,0,0,1],\n",
    "              [1,0,0,0], [0,1,0,0], \n",
    "               [0,0,1,0], [0,0,0,1]])"
   ]
  },
  {
   "cell_type": "code",
   "execution_count": 21,
   "metadata": {},
   "outputs": [
    {
     "data": {
      "text/latex": [
       "$$\\left[\\begin{matrix}1 & -3 & 1 & 0 & 0 & 0\\\\1 & 0 & 0 & 1 & 0 & 0\\\\1 & 0 & 0 & 0 & 1 & 0\\\\1 & 1 & 0 & 0 & 0 & 1\\end{matrix}\\right]$$"
      ],
      "text/plain": [
       "⎡1  -3  1  0  0  0⎤\n",
       "⎢                 ⎥\n",
       "⎢1  0   0  1  0  0⎥\n",
       "⎢                 ⎥\n",
       "⎢1  0   0  0  1  0⎥\n",
       "⎢                 ⎥\n",
       "⎣1  1   0  0  0  1⎦"
      ]
     },
     "execution_count": 21,
     "metadata": {},
     "output_type": "execute_result"
    }
   ],
   "source": [
    "B = A.T\n",
    "B"
   ]
  },
  {
   "cell_type": "code",
   "execution_count": 22,
   "metadata": {},
   "outputs": [
    {
     "data": {
      "text/latex": [
       "$$\\left ( \\left[\\begin{matrix}1 & 0 & 0 & 0 & 1 & 0\\\\0 & 1 & 0 & 0 & -1 & 1\\\\0 & 0 & 1 & 0 & -4 & 3\\\\0 & 0 & 0 & 1 & -1 & 0\\end{matrix}\\right], \\quad \\left ( 0, \\quad 1, \\quad 2, \\quad 3\\right )\\right )$$"
      ],
      "text/plain": [
       "⎛⎡1  0  0  0  1   0⎤              ⎞\n",
       "⎜⎢                 ⎥              ⎟\n",
       "⎜⎢0  1  0  0  -1  1⎥              ⎟\n",
       "⎜⎢                 ⎥, (0, 1, 2, 3)⎟\n",
       "⎜⎢0  0  1  0  -4  3⎥              ⎟\n",
       "⎜⎢                 ⎥              ⎟\n",
       "⎝⎣0  0  0  1  -1  0⎦              ⎠"
      ]
     },
     "execution_count": 22,
     "metadata": {},
     "output_type": "execute_result"
    }
   ],
   "source": [
    "B.rref()"
   ]
  },
  {
   "cell_type": "code",
   "execution_count": 24,
   "metadata": {},
   "outputs": [
    {
     "data": {
      "image/png": "[encoded data removed]",
      "text/latex": [
       "$$\\left ( 0, \\quad 1, \\quad 2, \\quad 3\\right )$$"
      ],
      "text/plain": [
       "(0, 1, 2, 3)"
      ]
     },
     "execution_count": 24,
     "metadata": {},
     "output_type": "execute_result"
    }
   ],
   "source": [
    "r = B.rref()[1]\n",
    "r"
   ]
  },
  {
   "cell_type": "code",
   "execution_count": 25,
   "metadata": {},
   "outputs": [
    {
     "data": {
      "text/latex": [
       "$$\\left[\\begin{matrix}1 & -3 & 1 & 0\\\\1 & 0 & 0 & 1\\\\1 & 0 & 0 & 0\\\\1 & 1 & 0 & 0\\end{matrix}\\right]$$"
      ],
      "text/plain": [
       "⎡1  -3  1  0⎤\n",
       "⎢           ⎥\n",
       "⎢1  0   0  1⎥\n",
       "⎢           ⎥\n",
       "⎢1  0   0  0⎥\n",
       "⎢           ⎥\n",
       "⎣1  1   0  0⎦"
      ]
     },
     "execution_count": 25,
     "metadata": {},
     "output_type": "execute_result"
    }
   ],
   "source": [
    "B.col(r)"
   ]
  },
  {
   "cell_type": "code",
   "execution_count": 26,
   "metadata": {},
   "outputs": [
    {
     "data": {
      "text/latex": [
       "$$\\left[\\begin{matrix}1 & 1 & 1 & 1\\\\-3 & 0 & 0 & 1\\\\1 & 0 & 0 & 0\\\\0 & 1 & 0 & 0\\end{matrix}\\right]$$"
      ],
      "text/plain": [
       "⎡1   1  1  1⎤\n",
       "⎢           ⎥\n",
       "⎢-3  0  0  1⎥\n",
       "⎢           ⎥\n",
       "⎢1   0  0  0⎥\n",
       "⎢           ⎥\n",
       "⎣0   1  0  0⎦"
      ]
     },
     "execution_count": 26,
     "metadata": {},
     "output_type": "execute_result"
    }
   ],
   "source": [
    "A.row(r)"
   ]
  },
  {
   "cell_type": "code",
   "execution_count": null,
   "metadata": {},
   "outputs": [],
   "source": []
  },
  {
   "cell_type": "markdown",
   "metadata": {},
   "source": [
    "y"
   ]
  }
 ],
 "metadata": {
  "kernelspec": {
   "display_name": "Python 3",
   "language": "python",
   "name": "python3"
  },
  "language_info": {
   "codemirror_mode": {
    "name": "ipython",
    "version": 3
   },
   "file_extension": ".py",
   "mimetype": "text/x-python",
   "name": "python",
   "nbconvert_exporter": "python",
   "pygments_lexer": "ipython3",
   "version": "3.6.4"
  }
 },
 "nbformat": 4,
 "nbformat_minor": 2
}
