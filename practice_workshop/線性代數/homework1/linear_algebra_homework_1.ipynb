{
 "cells": [
  {
   "cell_type": "code",
   "execution_count": 13,
   "metadata": {},
   "outputs": [],
   "source": [
    "#直接顯示在網頁上\n",
    "%matplotlib inline \n",
    "\n",
    "import numpy as np\n",
    "import matplotlib.pyplot as plt"
   ]
  },
  {
   "cell_type": "code",
   "execution_count": 69,
   "metadata": {},
   "outputs": [
    {
     "name": "stdout",
     "output_type": "stream",
     "text": [
      "degree of x :\n",
      "[64 71 65 48 64 67 77 63 33 30]\n",
      "y :\n",
      "[13.92774052 14.68257414 14.03453218 11.96244078 13.92774052 14.19316156\n",
      " 15.30121531 13.78950467  9.94625089  9.36923275]\n"
     ]
    }
   ],
   "source": [
    "# random degree\n",
    "x_point = np.random.randint(0,91, size=(10))\n",
    "print(\"degree of x :\" + \"\\n\" +  str(x))\n",
    "\n",
    "# crerate formula for y\n",
    "y_point = (np.sin(x) + np.pi*x - np.sqrt(x))**0.5\n",
    "print(\"y :\" + \"\\n\" +  str(y))"
   ]
  },
  {
   "cell_type": "code",
   "execution_count": 87,
   "metadata": {},
   "outputs": [
    {
     "name": "stdout",
     "output_type": "stream",
     "text": [
      "71\n"
     ]
    },
    {
     "data": {
      "image/png": "[encoded data removed]",
      "text/plain": [
       "<Figure size 432x288 with 1 Axes>"
      ]
     },
     "metadata": {},
     "output_type": "display_data"
    }
   ],
   "source": [
    "plt.plot(x_point, y_point, 'o')\n",
    "line1 = np.polyfit(x_point, y_point, 1) \n",
    "polynomial1 = np.poly1d(line1) \n",
    "\n",
    "# 畫出線與點\n",
    "print(max(x_point))\n",
    "linear_axis = np.linspace(0, max(x_point), 1000)\n",
    "\n",
    "# print(linear_axis)\n",
    "\n",
    "# print linear regression\n",
    "plt.plot(x_point, y_point, 'o', linear_axis, polynomial1(linear_axis), \"-g\")\n",
    "\n",
    "# 標示點的類別並顯示\n",
    "plt.legend(['Scattering point of x,y', 'linear regression'])\n",
    "plt.show()"
   ]
  },
  {
   "cell_type": "code",
   "execution_count": 95,
   "metadata": {},
   "outputs": [
    {
     "name": "stdout",
     "output_type": "stream",
     "text": [
      "[64 71 65 48 64 67 77 63 33 30]\n",
      "[13.92774052 14.68257414 14.03453218 11.96244078 13.92774052 14.19316156\n",
      " 15.30121531 13.78950467  9.94625089  9.36923275]\n"
     ]
    }
   ],
   "source": [
    "# 額外想到回歸的圖片，上網了解後實作\n",
    "\n",
    "#隨機產生資料點來Fit\n",
    "x_regression = np.random.rand(10)\n",
    "y_regression = np.random.rand(10)\n",
    "print(x)\n",
    "print(y)"
   ]
  },
  {
   "cell_type": "code",
   "execution_count": 96,
   "metadata": {},
   "outputs": [
    {
     "name": "stdout",
     "output_type": "stream",
     "text": [
      "Expected y : \n",
      "[ 0.18917775 -0.88853716  1.33305367  0.08372191]\n",
      "\n",
      "Polynomial is \n",
      "        3        2\n",
      "-11.03 x + 13.1 x - 3.01 x + 0.2053\n",
      "\n",
      "Expected y : \n",
      "[-0.62416928  1.22444045  0.09634146]\n",
      "\n",
      "Polynomial is :\n",
      "        2\n",
      "-2.507 x + 2.628 x - 0.1522\n"
     ]
    }
   ],
   "source": [
    "# 最高次項為3次方的多項式，預測以 X 點為基礎的預測曲線或線性直線\n",
    "line3 = np.polyfit(x_regression, y_regression, 3) \n",
    "polynomial3 = np.poly1d(line3) \n",
    "print(\"Expected y : \" + \"\\n\" + str(line3))\n",
    "print( \"\\n\" + \"Polynomial is \" + \"\\n\" + str(pn3))\n",
    "\n",
    "# 最高次項為2次方的多項式，預測以 X 點為基礎的預測曲線或線性直線\n",
    "line2 = np.polyfit(x_regression, y_regression, 2) \n",
    "polynomial2 = np.poly1d(line2)\n",
    "print( \"\\n\" + \"Expected y : \" + \"\\n\" +  str(line2))\n",
    "print( \"\\n\" + \"Polynomial is :\" + \"\\n\" + str(pn2))"
   ]
  },
  {
   "cell_type": "code",
   "execution_count": 97,
   "metadata": {},
   "outputs": [
    {
     "data": {
      "image/png": "[encoded data removed]",
      "text/plain": [
       "<Figure size 432x288 with 1 Axes>"
      ]
     },
     "metadata": {},
     "output_type": "display_data"
    }
   ],
   "source": [
    "# 在 0 與 1 間分成一千個點\n",
    "xaxis = np.linspace(0, 1, 1000)\n",
    "\n",
    "# 畫出線與點\n",
    "plt.plot(x_regression, y_regression, 'o', xaxis, polynomial3(xaxis),'-g', xaxis, polynomial2(xaxis),'-b')\n",
    "\n",
    "# 標示點的類別並顯示\n",
    "plt.legend(['Scattering point of x,y', '3rd polynomial regression', '2rd polynomial regression'])\n",
    "plt.axis([0,1,0,1])\n",
    "plt.show()"
   ]
  },
  {
   "cell_type": "code",
   "execution_count": null,
   "metadata": {},
   "outputs": [],
   "source": []
  },
  {
   "cell_type": "code",
   "execution_count": null,
   "metadata": {},
   "outputs": [],
   "source": []
  },
  {
   "cell_type": "code",
   "execution_count": null,
   "metadata": {},
   "outputs": [],
   "source": []
  },
  {
   "cell_type": "code",
   "execution_count": null,
   "metadata": {},
   "outputs": [],
   "source": []
  }
 ],
 "metadata": {
  "kernelspec": {
   "display_name": "Python 3",
   "language": "python",
   "name": "python3"
  },
  "language_info": {
   "codemirror_mode": {
    "name": "ipython",
    "version": 3
   },
   "file_extension": ".py",
   "mimetype": "text/x-python",
   "name": "python",
   "nbconvert_exporter": "python",
   "pygments_lexer": "ipython3",
   "version": "3.6.4"
  }
 },
 "nbformat": 4,
 "nbformat_minor": 2
}
