{
 "cells": [
  {
   "cell_type": "markdown",
   "metadata": {},
   "source": [
    "# MITC數理資訊社社課\n",
    "### 11/22 19:00~21:00 @應數系電\n",
    "\n",
    "# 複習 ＆ 綜合應用"
   ]
  },
  {
   "cell_type": "markdown",
   "metadata": {},
   "source": [
    "### ----------------------------------------------------"
   ]
  },
  {
   "cell_type": "markdown",
   "metadata": {},
   "source": [
    "## 引進套件(5 min)\n",
    "### 將等等會使用到的套件引進來\n",
    "- numpy 套件（簡稱np）\n",
    "- matplotlib.pyplot 的套件 （簡稱plt）\n",
    "- 魔術指令 matplotlib inline"
   ]
  },
  {
   "cell_type": "markdown",
   "metadata": {},
   "source": [
    "# list"
   ]
  },
  {
   "cell_type": "code",
   "execution_count": 74,
   "metadata": {
    "collapsed": true
   },
   "outputs": [],
   "source": [
    "l = [10, 20, 30, 40]"
   ]
  },
  {
   "cell_type": "code",
   "execution_count": 75,
   "metadata": {
    "collapsed": false
   },
   "outputs": [
    {
     "data": {
      "text/plain": [
       "[10, 20, 30, 40]"
      ]
     },
     "execution_count": 75,
     "metadata": {},
     "output_type": "execute_result"
    }
   ],
   "source": [
    "res = []\n",
    "for i in l:#for 是把 list 的所有元素拿出來做處理\n",
    "    res.append(i)\n",
    "res"
   ]
  },
  {
   "cell_type": "markdown",
   "metadata": {},
   "source": [
    "## 告別期中(10 min)\n",
    "- `now = ['I','love','midterm','exam']`\n",
    "- 透過插入、移除list元素，將now這個list改變成 `now = ['I','love','MITc','welcome','back']`\n",
    "\n",
    "提示：\n",
    "\n",
    "在字串中插入元素 >> `list.insert`(插入位置,插入元素)\n",
    "\n",
    "刪除元素 >> `list.pop`(刪除元素的位置)\n",
    "\n",
    "注意元素的序號"
   ]
  },
  {
   "cell_type": "code",
   "execution_count": null,
   "metadata": {
    "collapsed": true
   },
   "outputs": [],
   "source": []
  },
  {
   "cell_type": "markdown",
   "metadata": {},
   "source": [
    "# if 條件判斷\n",
    "### 非a則b\n",
    "```if 條件a:\n",
    "    do sth.\n",
    "else:\n",
    "    do sth.```\n",
    "### 多種條件\n",
    "\n",
    "\n",
    "if(條件a):\n",
    "    \n",
    "    do sth.\n",
    "\n",
    "elif(條件b):\n",
    "    \n",
    "    do sth.\n",
    "\n",
    "else:\n",
    "    \n",
    "    do sth."
   ]
  },
  {
   "cell_type": "code",
   "execution_count": 77,
   "metadata": {
    "collapsed": false
   },
   "outputs": [
    {
     "name": "stdout",
     "output_type": "stream",
     "text": [
      "及格\n"
     ]
    }
   ],
   "source": [
    "# 假設某A的成績為67分\n",
    "a=67\n",
    "if(a>60):\n",
    "    print(\"及格\")\n",
    "else:\n",
    "    print(\"不及格\")"
   ]
  },
  {
   "cell_type": "markdown",
   "metadata": {},
   "source": [
    "# while 迴圈\n",
    "`while(停止條件):`\n",
    "    如果條件成立要執行的動作\n",
    "    \n",
    "不成立就跳出來"
   ]
  },
  {
   "cell_type": "code",
   "execution_count": 78,
   "metadata": {
    "collapsed": false
   },
   "outputs": [
    {
     "name": "stdout",
     "output_type": "stream",
     "text": [
      "*\n",
      "**\n",
      "***\n",
      "****\n",
      "*****\n",
      "******\n",
      "*******\n",
      "********\n",
      "*********\n"
     ]
    }
   ],
   "source": [
    "s=1\n",
    "while s<10:\n",
    "    print(\"*\"*s)\n",
    "    s=s+1"
   ]
  },
  {
   "cell_type": "markdown",
   "metadata": {},
   "source": [
    "# Plot"
   ]
  },
  {
   "cell_type": "code",
   "execution_count": 64,
   "metadata": {
    "collapsed": false
   },
   "outputs": [
    {
     "data": {
      "text/plain": [
       "[<matplotlib.lines.Line2D at 0x1098912e8>]"
      ]
     },
     "execution_count": 64,
     "metadata": {},
     "output_type": "execute_result"
    },
    {
     "data": {
      "image/png": "[encoded data removed]",
      "text/plain": [
       "<matplotlib.figure.Figure at 0x109675208>"
      ]
     },
     "metadata": {},
     "output_type": "display_data"
    }
   ],
   "source": [
    "plt.plot(np.random.randint(1,10,10))"
   ]
  },
  {
   "cell_type": "markdown",
   "metadata": {},
   "source": [
    "## 函數圖形(10 min)\n",
    "### 畫出收入函數以及成本函數圖\n",
    "- $C(x) = 10000 + 16x - 4x^2$\n",
    "- $R(x) = 9 - 7x + 2x^2$\n",
    "- $x$可以用`np.linspace`產出"
   ]
  },
  {
   "cell_type": "code",
   "execution_count": null,
   "metadata": {
    "collapsed": true
   },
   "outputs": [],
   "source": []
  },
  {
   "cell_type": "markdown",
   "metadata": {},
   "source": [
    "# Array"
   ]
  },
  {
   "cell_type": "code",
   "execution_count": 80,
   "metadata": {
    "collapsed": false
   },
   "outputs": [
    {
     "data": {
      "text/plain": [
       "array([1, 2, 3, 4])"
      ]
     },
     "execution_count": 80,
     "metadata": {},
     "output_type": "execute_result"
    }
   ],
   "source": [
    "array = np.array([1,2,3,4])\n",
    "array"
   ]
  },
  {
   "cell_type": "code",
   "execution_count": 81,
   "metadata": {
    "collapsed": false
   },
   "outputs": [
    {
     "data": {
      "text/plain": [
       "array([0.8032027 , 0.72487514, 0.57741156, 0.80383636, 0.26608911,\n",
       "       0.52726808, 0.2900388 , 0.42892128, 0.042141  , 0.69713478,\n",
       "       0.43801952, 0.39156331, 0.99022111, 0.87552299, 0.50733802,\n",
       "       0.68045329, 0.07535153, 0.0985039 , 0.35807374, 0.93015825,\n",
       "       0.36242268, 0.52192518, 0.76974068, 0.79700255, 0.08858849,\n",
       "       0.31049772, 0.01585025, 0.66892229, 0.32660343, 0.86716764,\n",
       "       0.28889043, 0.54180176, 0.12400701, 0.59354401, 0.96747313,\n",
       "       0.91176747, 0.99079315, 0.72144772, 0.95634793, 0.29254701,\n",
       "       0.75367443, 0.98651187, 0.14163592, 0.34804049, 0.65444569,\n",
       "       0.60566914, 0.64517527, 0.98570103, 0.36606272, 0.26154259,\n",
       "       0.60453583, 0.22805889, 0.82082305, 0.58462166, 0.04114312,\n",
       "       0.46407053, 0.72845165, 0.38772793, 0.33535283, 0.15509356,\n",
       "       0.73420412, 0.71978761, 0.45108504, 0.09213641, 0.23755755,\n",
       "       0.35931884, 0.36790454, 0.54651213, 0.13668117, 0.4016271 ,\n",
       "       0.70379962, 0.96318208, 0.56930664, 0.42568046, 0.22008121,\n",
       "       0.51979561, 0.11770469, 0.26263949, 0.24076988, 0.48740814,\n",
       "       0.33465788, 0.94892298, 0.57300608, 0.76924935, 0.45930745,\n",
       "       0.4063386 , 0.27785685, 0.59491611, 0.25240128, 0.88298459,\n",
       "       0.00555653, 0.54279678, 0.80118188, 0.68543696, 0.70998808,\n",
       "       0.35388144, 0.22959115, 0.95533825, 0.87557585, 0.12282872])"
      ]
     },
     "execution_count": 81,
     "metadata": {},
     "output_type": "execute_result"
    }
   ],
   "source": [
    "r = np.random.random(100)\n",
    "r"
   ]
  },
  {
   "cell_type": "code",
   "execution_count": 82,
   "metadata": {
    "collapsed": false
   },
   "outputs": [
    {
     "data": {
      "text/plain": [
       "(100,)"
      ]
     },
     "execution_count": 82,
     "metadata": {},
     "output_type": "execute_result"
    }
   ],
   "source": [
    "r.shape"
   ]
  },
  {
   "cell_type": "code",
   "execution_count": 83,
   "metadata": {
    "collapsed": true
   },
   "outputs": [],
   "source": [
    "new_r=r.reshape(25,4)"
   ]
  },
  {
   "cell_type": "code",
   "execution_count": 84,
   "metadata": {
    "collapsed": false
   },
   "outputs": [
    {
     "data": {
      "text/plain": [
       "array([[0.8032027 , 0.72487514, 0.57741156, 0.80383636],\n",
       "       [0.26608911, 0.52726808, 0.2900388 , 0.42892128],\n",
       "       [0.042141  , 0.69713478, 0.43801952, 0.39156331],\n",
       "       [0.99022111, 0.87552299, 0.50733802, 0.68045329],\n",
       "       [0.07535153, 0.0985039 , 0.35807374, 0.93015825],\n",
       "       [0.36242268, 0.52192518, 0.76974068, 0.79700255],\n",
       "       [0.08858849, 0.31049772, 0.01585025, 0.66892229],\n",
       "       [0.32660343, 0.86716764, 0.28889043, 0.54180176],\n",
       "       [0.12400701, 0.59354401, 0.96747313, 0.91176747],\n",
       "       [0.99079315, 0.72144772, 0.95634793, 0.29254701],\n",
       "       [0.75367443, 0.98651187, 0.14163592, 0.34804049],\n",
       "       [0.65444569, 0.60566914, 0.64517527, 0.98570103],\n",
       "       [0.36606272, 0.26154259, 0.60453583, 0.22805889],\n",
       "       [0.82082305, 0.58462166, 0.04114312, 0.46407053],\n",
       "       [0.72845165, 0.38772793, 0.33535283, 0.15509356],\n",
       "       [0.73420412, 0.71978761, 0.45108504, 0.09213641],\n",
       "       [0.23755755, 0.35931884, 0.36790454, 0.54651213],\n",
       "       [0.13668117, 0.4016271 , 0.70379962, 0.96318208],\n",
       "       [0.56930664, 0.42568046, 0.22008121, 0.51979561],\n",
       "       [0.11770469, 0.26263949, 0.24076988, 0.48740814],\n",
       "       [0.33465788, 0.94892298, 0.57300608, 0.76924935],\n",
       "       [0.45930745, 0.4063386 , 0.27785685, 0.59491611],\n",
       "       [0.25240128, 0.88298459, 0.00555653, 0.54279678],\n",
       "       [0.80118188, 0.68543696, 0.70998808, 0.35388144],\n",
       "       [0.22959115, 0.95533825, 0.87557585, 0.12282872]])"
      ]
     },
     "execution_count": 84,
     "metadata": {},
     "output_type": "execute_result"
    }
   ],
   "source": [
    "new_r"
   ]
  },
  {
   "cell_type": "markdown",
   "metadata": {},
   "source": [
    "## 矩陣創造(10 min)\n",
    "### 創造一個對稱以及一個上三角的方陣\n",
    "- 對稱方陣是n x n的矩陣，他的第i列第j行的值 = 第j列第i行的值，對角線都是0\n",
    "- 上三角方陣是n x n的矩陣，他只有對角線及以上有值"
   ]
  },
  {
   "cell_type": "code",
   "execution_count": null,
   "metadata": {
    "collapsed": true
   },
   "outputs": [],
   "source": []
  },
  {
   "cell_type": "markdown",
   "metadata": {},
   "source": [
    "## 計算行向量及列向量值(10 min)\n",
    "### 創造一個矩陣，分別計算各行向量以及列向量的值\n",
    "- 想想如何把元素都加起來！"
   ]
  },
  {
   "cell_type": "code",
   "execution_count": null,
   "metadata": {
    "collapsed": true
   },
   "outputs": [],
   "source": []
  },
  {
   "cell_type": "markdown",
   "metadata": {},
   "source": [
    "## 矩陣變換(10 min)\n",
    "### 先自創一個10x10的矩陣，接著將大於1的數變成1，小於1的數變成0\n",
    "- 將原矩陣以及變換後的結果print出來"
   ]
  },
  {
   "cell_type": "code",
   "execution_count": null,
   "metadata": {
    "collapsed": true
   },
   "outputs": [],
   "source": []
  },
  {
   "cell_type": "markdown",
   "metadata": {},
   "source": [
    "## 小知識！"
   ]
  },
  {
   "cell_type": "code",
   "execution_count": 94,
   "metadata": {
    "collapsed": false
   },
   "outputs": [
    {
     "data": {
      "text/plain": [
       "array([1, 1, 1, 1, 1])"
      ]
     },
     "execution_count": 94,
     "metadata": {},
     "output_type": "execute_result"
    }
   ],
   "source": [
    "A=np.array([1,1,1,1,1])\n",
    "A"
   ]
  },
  {
   "cell_type": "code",
   "execution_count": 95,
   "metadata": {
    "collapsed": false
   },
   "outputs": [
    {
     "data": {
      "text/plain": [
       "matrix([[1, 1, 1, 1, 1]])"
      ]
     },
     "execution_count": 95,
     "metadata": {},
     "output_type": "execute_result"
    }
   ],
   "source": [
    "a=np.matrix([1,1,1,1,1])\n",
    "a"
   ]
  },
  {
   "cell_type": "markdown",
   "metadata": {},
   "source": [
    "## 班級加權平均計算(15 min)\n",
    "### 計算三個班級每一個人的分數加權平均\n",
    "- 有A, B, C三個班級，每個班級有10個人，每個人都考國英數自社5科\n",
    "- 先創造出三個矩陣代表三個班每個人的分數(五個分數就分別是國英數自社)\n",
    "- 加權值：國 0.2 英 0.25 數 0.3 自 0.1 社 0.15 \n",
    "- 接著計算各班每人的加權平均(`np.dot`)，並print出來"
   ]
  },
  {
   "cell_type": "code",
   "execution_count": null,
   "metadata": {
    "collapsed": true
   },
   "outputs": [],
   "source": []
  },
  {
   "cell_type": "markdown",
   "metadata": {},
   "source": [
    "## 隨機生成數據並計算變化率(15 min)\n",
    "### 並將變化率的圖畫出\n",
    "- `y = np.random.rand(50)`，先產生隨機資料\n",
    "- 變化率 = (後項-前項)/前項，最後將所有的變化率圖形畫出來"
   ]
  },
  {
   "cell_type": "code",
   "execution_count": null,
   "metadata": {
    "collapsed": true
   },
   "outputs": [],
   "source": []
  },
  {
   "cell_type": "markdown",
   "metadata": {},
   "source": [
    "## 標準化資料(15 min)\n",
    "### 將一個5000筆的資料標準化\n",
    "- 先隨機取5000筆資料，要記得不要在0~1區間\n",
    "- 將這個array標準化，並print出來"
   ]
  },
  {
   "cell_type": "code",
   "execution_count": null,
   "metadata": {
    "collapsed": true
   },
   "outputs": [],
   "source": []
  },
  {
   "cell_type": "markdown",
   "metadata": {},
   "source": [
    "# -----------------------------難題區-------------------------------------"
   ]
  },
  {
   "cell_type": "markdown",
   "metadata": {},
   "source": [
    "## Bubble Sort\n",
    "### 經典資料排序問題！\n",
    "- `a=[2,4,7,1,3,4,8,10,5]`，將a由小至大重新排列\n",
    "- 想想如何用 `for` 及 `if` 兩個功能就將這個序列整理好"
   ]
  },
  {
   "cell_type": "code",
   "execution_count": 98,
   "metadata": {
    "collapsed": false
   },
   "outputs": [
    {
     "name": "stdout",
     "output_type": "stream",
     "text": [
      "[2, 4, 1, 7, 3, 4, 8, 10, 5]\n",
      "[2, 4, 1, 3, 7, 4, 8, 10, 5]\n",
      "[2, 4, 1, 3, 4, 7, 8, 10, 5]\n",
      "[2, 4, 1, 3, 4, 7, 8, 5, 10]\n",
      "[2, 1, 4, 3, 4, 7, 8, 5, 10]\n",
      "[2, 1, 3, 4, 4, 7, 8, 5, 10]\n",
      "[2, 1, 3, 4, 4, 7, 5, 8, 10]\n",
      "[1, 2, 3, 4, 4, 7, 5, 8, 10]\n",
      "[1, 2, 3, 4, 4, 5, 7, 8, 10]\n"
     ]
    }
   ],
   "source": [
    "a=[2,4,7,1,3,4,8,10,5]\n",
    "for i in range(len(a)-1):\n",
    "    for j in range(len(a)-i-1):\n",
    "        if(a[j]>a[j+1]):\n",
    "            \n",
    "            \n",
    "            \n",
    "            print(list(a))"
   ]
  },
  {
   "cell_type": "markdown",
   "metadata": {},
   "source": [
    "## 費波那契數列\n",
    "### 第n項 ＝ 第n-1項 ＋ 第n-2項\n",
    "- 自定義一個 `fibonacci(n)` 函數，n是第n項的值"
   ]
  },
  {
   "cell_type": "code",
   "execution_count": 99,
   "metadata": {
    "collapsed": false
   },
   "outputs": [
    {
     "data": {
      "text/plain": [
       "55"
      ]
     },
     "execution_count": 99,
     "metadata": {},
     "output_type": "execute_result"
    }
   ],
   "source": [
    "#求Fibonacci 數列(a1 =1, a2 = 1, a3 = 2,之後的項都是前兩項的和)\n",
    "def fibonacci(n):\n",
    "    if n ==0 or n ==1:\n",
    "        return n\n",
    "    else:\n",
    "        return fibonacci(n-1)+fibonacci(n-2)\n",
    "fibonacci(10)"
   ]
  },
  {
   "cell_type": "markdown",
   "metadata": {},
   "source": [
    "## 賭大小機器人\n",
    "### 用while if 就可以設計出來！\n",
    "- 起始金額為100，贏或輸都是想要賭的錢\n",
    "- 投三顆骰子，如果總和是3-10則是小，如果總和是11-18則是大\n",
    "- 須先執行`from IPython.display import clear_output`，此功能是可以將前一次的產出清空"
   ]
  },
  {
   "cell_type": "code",
   "execution_count": 101,
   "metadata": {
    "collapsed": false
   },
   "outputs": [
    {
     "name": "stdout",
     "output_type": "stream",
     "text": [
      "請輸入大或小:小\n",
      "你要下注多少錢:200\n",
      "[6 2 4]   12點大,你輸了\n",
      "你現在有 0 元\n",
      "滾吧!窮鬼\n"
     ]
    }
   ],
   "source": [
    "from IPython.display import clear_output\n",
    "money=100\n",
    "while(money>0):\n",
    "    clear_output(wait=True)\n",
    "    s=input(\"請輸入大或小:\")\n",
    "    while(s!=\"大\"and s!=\"小\"):\n",
    "        s=input(\"請輸入大或小:\")\n",
    "    b=int(input(\"你要下注多少錢:\"))\n",
    "    while(b>money or b<=0):\n",
    "        b=int(input(\"你要下注多少錢:\"))\n",
    "    a=np.random.randint(1,7,size=3)\n",
    "    print(a,\" \",a.sum(),end='')\n",
    "    if(a.sum()>=3 and a.sum()<=10):\n",
    "        if(s==\"小\"):\n",
    "            print(\"點小,你贏了\")\n",
    "            money+=b\n",
    "        else:\n",
    "            print(\"點小,你輸了\")\n",
    "            money-=b\n",
    "    elif(a.sum()>=11 and a.sum()<=18):\n",
    "        if(s==\"大\"):\n",
    "            print(\"點大,你贏了\")\n",
    "            money+=b\n",
    "        else:\n",
    "            print(\"點大,你輸了\")\n",
    "            money-=b\n",
    "    print(\"你現在有\",money,\"元\")\n",
    "print(\"滾吧!窮鬼\")"
   ]
  },
  {
   "cell_type": "code",
   "execution_count": null,
   "metadata": {
    "collapsed": true
   },
   "outputs": [],
   "source": []
  }
 ],
 "metadata": {
  "kernelspec": {
   "display_name": "Python 3",
   "language": "python",
   "name": "python3"
  },
  "language_info": {
   "codemirror_mode": {
    "name": "ipython",
    "version": 3
   },
   "file_extension": ".py",
   "mimetype": "text/x-python",
   "name": "python",
   "nbconvert_exporter": "python",
   "pygments_lexer": "ipython3",
   "version": "3.6.0"
  }
 },
 "nbformat": 4,
 "nbformat_minor": 2
}
