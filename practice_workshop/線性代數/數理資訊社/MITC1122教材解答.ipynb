{
 "cells": [
  {
   "cell_type": "markdown",
   "metadata": {},
   "source": [
    "# MITC數理資訊社社課\n",
    "### 11/22 19:00~21:00 @應數系電\n",
    "\n",
    "# 複習 ＆ 綜合應用"
   ]
  },
  {
   "cell_type": "markdown",
   "metadata": {},
   "source": [
    "### ----------------------------------------------------"
   ]
  },
  {
   "cell_type": "markdown",
   "metadata": {},
   "source": [
    "## 引進套件(5 min)\n",
    "### 將等等會使用到的套件引進來\n",
    "- numpy 套件（簡稱np）\n",
    "- matplotlib.pyplot 的套件 （簡稱plt）\n",
    "- 魔術指令 matplotlib inline"
   ]
  },
  {
   "cell_type": "code",
   "execution_count": 73,
   "metadata": {
    "collapsed": true
   },
   "outputs": [],
   "source": [
    "import numpy as np\n",
    "import matplotlib.pyplot as plt\n",
    "%matplotlib inline"
   ]
  },
  {
   "cell_type": "markdown",
   "metadata": {},
   "source": [
    "# list"
   ]
  },
  {
   "cell_type": "code",
   "execution_count": 74,
   "metadata": {
    "collapsed": true
   },
   "outputs": [],
   "source": [
    "l = [10, 20, 30, 40]"
   ]
  },
  {
   "cell_type": "code",
   "execution_count": 75,
   "metadata": {
    "collapsed": false
   },
   "outputs": [
    {
     "data": {
      "text/plain": [
       "[10, 20, 30, 40]"
      ]
     },
     "execution_count": 75,
     "metadata": {},
     "output_type": "execute_result"
    }
   ],
   "source": [
    "res = []\n",
    "for i in l:#for 是把 list 的所有元素拿出來做處理\n",
    "    res.append(i)\n",
    "res"
   ]
  },
  {
   "cell_type": "markdown",
   "metadata": {},
   "source": [
    "## 告別期中(10 min)\n",
    "- `now = ['I','love','midterm','exam']`\n",
    "- 透過插入、移除list元素，將now這個list改變成 `now = ['I','love','MITc','welcome','back']`\n",
    "\n",
    "提示：\n",
    "\n",
    "在字串中插入元素 >> `list.insert`(插入位置,插入元素)\n",
    "\n",
    "刪除元素 >> `list.pop`(刪除元素的位置)\n",
    "\n",
    "注意元素的序號"
   ]
  },
  {
   "cell_type": "code",
   "execution_count": 103,
   "metadata": {
    "collapsed": false
   },
   "outputs": [
    {
     "data": {
      "text/plain": [
       "['I', 'love', 'MITc', 'welcome', 'back']"
      ]
     },
     "execution_count": 103,
     "metadata": {},
     "output_type": "execute_result"
    }
   ],
   "source": [
    "now = ['I','love','midterm','exam']\n",
    "now.pop(2)\n",
    "now.pop(2)\n",
    "now.insert(2,'MITc')\n",
    "now.insert(3,'welcome')\n",
    "now.insert(4,'back')\n",
    "now"
   ]
  },
  {
   "cell_type": "markdown",
   "metadata": {},
   "source": [
    "# if 條件判斷\n",
    "### 非a則b\n",
    "```if 條件a:\n",
    "    do sth.\n",
    "else:\n",
    "    do sth.```\n",
    "### 多種條件\n",
    "\n",
    "\n",
    "if(條件a):\n",
    "    \n",
    "    do sth.\n",
    "\n",
    "elif(條件b):\n",
    "    \n",
    "    do sth.\n",
    "\n",
    "else:\n",
    "    \n",
    "    do sth."
   ]
  },
  {
   "cell_type": "code",
   "execution_count": 105,
   "metadata": {
    "collapsed": false
   },
   "outputs": [
    {
     "name": "stdout",
     "output_type": "stream",
     "text": [
      "不及格\n"
     ]
    }
   ],
   "source": [
    "# 假設某A的成績為67分\n",
    "a=67\n",
    "if(a>70):\n",
    "    print(\"及格\")\n",
    "else:\n",
    "    print(\"不及格\")"
   ]
  },
  {
   "cell_type": "markdown",
   "metadata": {},
   "source": [
    "# while 迴圈\n",
    "`while(停止條件):`\n",
    "    如果條件成立要執行的動作\n",
    "    \n",
    "不成立就跳出來"
   ]
  },
  {
   "cell_type": "code",
   "execution_count": 107,
   "metadata": {
    "collapsed": false
   },
   "outputs": [
    {
     "name": "stdout",
     "output_type": "stream",
     "text": [
      "*\n",
      "2\n",
      "**\n",
      "3\n",
      "***\n",
      "4\n",
      "****\n",
      "5\n",
      "*****\n",
      "6\n",
      "******\n",
      "7\n",
      "*******\n",
      "8\n",
      "********\n",
      "9\n",
      "*********\n",
      "10\n"
     ]
    }
   ],
   "source": [
    "s=1\n",
    "while s<10:\n",
    "    print(\"*\"*s)\n",
    "    s=s+1\n",
    "    print(s)"
   ]
  },
  {
   "cell_type": "markdown",
   "metadata": {},
   "source": [
    "# Plot"
   ]
  },
  {
   "cell_type": "code",
   "execution_count": 108,
   "metadata": {
    "collapsed": false
   },
   "outputs": [
    {
     "data": {
      "text/plain": [
       "[<matplotlib.lines.Line2D at 0x109b4b748>]"
      ]
     },
     "execution_count": 108,
     "metadata": {},
     "output_type": "execute_result"
    },
    {
     "data": {
      "image/png": "[encoded data removed]",
      "text/plain": [
       "<matplotlib.figure.Figure at 0x109c15240>"
      ]
     },
     "metadata": {},
     "output_type": "display_data"
    }
   ],
   "source": [
    "plt.plot(np.random.randint(1,10,10))"
   ]
  },
  {
   "cell_type": "markdown",
   "metadata": {},
   "source": [
    "## 函數圖形(10 min)\n",
    "### 畫出收入函數以及成本函數圖\n",
    "- $C(x) = 10000 + 16x - 4x^2$\n",
    "- $R(x) = 9 - 7x + 2x^2$\n",
    "- $x$可以用`np.linspace`產出"
   ]
  },
  {
   "cell_type": "code",
   "execution_count": 79,
   "metadata": {
    "collapsed": false
   },
   "outputs": [
    {
     "data": {
      "text/plain": [
       "[<matplotlib.lines.Line2D at 0x1097ee780>]"
      ]
     },
     "execution_count": 79,
     "metadata": {},
     "output_type": "execute_result"
    },
    {
     "data": {
      "image/png": "[encoded data removed]",
      "text/plain": [
       "<matplotlib.figure.Figure at 0x1097eeef0>"
      ]
     },
     "metadata": {},
     "output_type": "display_data"
    }
   ],
   "source": [
    "x = np.linspace(0,100, 100)\n",
    "cy = 10000 + x*16 - (x**2)*4\n",
    "ry = 9 - 7*x + (x**2)*2\n",
    "plt.plot(x,cy)\n",
    "plt.plot(x,ry)"
   ]
  },
  {
   "cell_type": "markdown",
   "metadata": {},
   "source": [
    "# Array"
   ]
  },
  {
   "cell_type": "code",
   "execution_count": 109,
   "metadata": {
    "collapsed": false
   },
   "outputs": [
    {
     "data": {
      "text/plain": [
       "array([1, 2, 3, 4])"
      ]
     },
     "execution_count": 109,
     "metadata": {},
     "output_type": "execute_result"
    }
   ],
   "source": [
    "array = np.array([1,2,3,4])\n",
    "array"
   ]
  },
  {
   "cell_type": "code",
   "execution_count": 110,
   "metadata": {
    "collapsed": false
   },
   "outputs": [
    {
     "data": {
      "text/plain": [
       "array([0.12805677, 0.42594856, 0.03046493, 0.21008026, 0.67405833,\n",
       "       0.76607082, 0.9736315 , 0.22189426, 0.30470941, 0.09148677,\n",
       "       0.37097143, 0.59523456, 0.91461053, 0.07302152, 0.84204633,\n",
       "       0.77792991, 0.1223969 , 0.47097393, 0.38953316, 0.97998659,\n",
       "       0.34413855, 0.4516853 , 0.66182479, 0.43428835, 0.10222603,\n",
       "       0.43149276, 0.19914467, 0.49484581, 0.94856911, 0.43857341,\n",
       "       0.76175763, 0.07752275, 0.77457191, 0.67174422, 0.27885819,\n",
       "       0.53348661, 0.30534023, 0.59628716, 0.1904099 , 0.05191004,\n",
       "       0.46010887, 0.92333419, 0.36632444, 0.14160598, 0.80477317,\n",
       "       0.67517786, 0.02963346, 0.57916752, 0.52434533, 0.92451481,\n",
       "       0.20054725, 0.104407  , 0.2762323 , 0.82650781, 0.12140343,\n",
       "       0.93048803, 0.71529065, 0.02820967, 0.95607593, 0.8843844 ,\n",
       "       0.47030502, 0.91962861, 0.07422631, 0.15324376, 0.37884988,\n",
       "       0.29910868, 0.79340034, 0.88015368, 0.81828812, 0.33823708,\n",
       "       0.45924284, 0.49348445, 0.7370361 , 0.37198589, 0.30920405,\n",
       "       0.93990619, 0.86803149, 0.26600391, 0.05033333, 0.79878968,\n",
       "       0.1351295 , 0.22605897, 0.29227947, 0.88049506, 0.08241603,\n",
       "       0.85000376, 0.95444864, 0.68750549, 0.50664625, 0.45176839,\n",
       "       0.1180553 , 0.11837624, 0.9786376 , 0.92048049, 0.24583233,\n",
       "       0.09873906, 0.32118833, 0.48809192, 0.98307997, 0.00618086])"
      ]
     },
     "execution_count": 110,
     "metadata": {},
     "output_type": "execute_result"
    }
   ],
   "source": [
    "r = np.random.random(100)\n",
    "r"
   ]
  },
  {
   "cell_type": "code",
   "execution_count": 111,
   "metadata": {
    "collapsed": false
   },
   "outputs": [
    {
     "data": {
      "text/plain": [
       "(100,)"
      ]
     },
     "execution_count": 111,
     "metadata": {},
     "output_type": "execute_result"
    }
   ],
   "source": [
    "r.shape"
   ]
  },
  {
   "cell_type": "code",
   "execution_count": 83,
   "metadata": {
    "collapsed": true
   },
   "outputs": [],
   "source": [
    "new_r=r.reshape(25,4)"
   ]
  },
  {
   "cell_type": "code",
   "execution_count": 84,
   "metadata": {
    "collapsed": false
   },
   "outputs": [
    {
     "data": {
      "text/plain": [
       "array([[0.8032027 , 0.72487514, 0.57741156, 0.80383636],\n",
       "       [0.26608911, 0.52726808, 0.2900388 , 0.42892128],\n",
       "       [0.042141  , 0.69713478, 0.43801952, 0.39156331],\n",
       "       [0.99022111, 0.87552299, 0.50733802, 0.68045329],\n",
       "       [0.07535153, 0.0985039 , 0.35807374, 0.93015825],\n",
       "       [0.36242268, 0.52192518, 0.76974068, 0.79700255],\n",
       "       [0.08858849, 0.31049772, 0.01585025, 0.66892229],\n",
       "       [0.32660343, 0.86716764, 0.28889043, 0.54180176],\n",
       "       [0.12400701, 0.59354401, 0.96747313, 0.91176747],\n",
       "       [0.99079315, 0.72144772, 0.95634793, 0.29254701],\n",
       "       [0.75367443, 0.98651187, 0.14163592, 0.34804049],\n",
       "       [0.65444569, 0.60566914, 0.64517527, 0.98570103],\n",
       "       [0.36606272, 0.26154259, 0.60453583, 0.22805889],\n",
       "       [0.82082305, 0.58462166, 0.04114312, 0.46407053],\n",
       "       [0.72845165, 0.38772793, 0.33535283, 0.15509356],\n",
       "       [0.73420412, 0.71978761, 0.45108504, 0.09213641],\n",
       "       [0.23755755, 0.35931884, 0.36790454, 0.54651213],\n",
       "       [0.13668117, 0.4016271 , 0.70379962, 0.96318208],\n",
       "       [0.56930664, 0.42568046, 0.22008121, 0.51979561],\n",
       "       [0.11770469, 0.26263949, 0.24076988, 0.48740814],\n",
       "       [0.33465788, 0.94892298, 0.57300608, 0.76924935],\n",
       "       [0.45930745, 0.4063386 , 0.27785685, 0.59491611],\n",
       "       [0.25240128, 0.88298459, 0.00555653, 0.54279678],\n",
       "       [0.80118188, 0.68543696, 0.70998808, 0.35388144],\n",
       "       [0.22959115, 0.95533825, 0.87557585, 0.12282872]])"
      ]
     },
     "execution_count": 84,
     "metadata": {},
     "output_type": "execute_result"
    }
   ],
   "source": [
    "new_r"
   ]
  },
  {
   "cell_type": "markdown",
   "metadata": {},
   "source": [
    "## 矩陣創造\n",
    "### 創造一個對稱以及一個上三角的方陣\n",
    "- 對稱方陣是n x n的矩陣，他的第i列第j行的值 = 第j列第i行的值，對角線都是0\n",
    "- 上三角方陣是n x n的矩陣，他只有對角線及以上有值"
   ]
  },
  {
   "cell_type": "code",
   "execution_count": 87,
   "metadata": {
    "collapsed": false
   },
   "outputs": [
    {
     "data": {
      "text/plain": [
       "array([[0.53373581, 0.37326505, 0.15240559, 0.4281201 ],\n",
       "       [0.        , 0.58889875, 0.33077537, 0.1395864 ],\n",
       "       [0.        , 0.        , 0.06006472, 0.14382601],\n",
       "       [0.        , 0.        , 0.        , 0.70604984]])"
      ]
     },
     "execution_count": 87,
     "metadata": {},
     "output_type": "execute_result"
    }
   ],
   "source": [
    "Array1 = np.random.random(size=(4,4))\n",
    "for i in range(4):\n",
    "    for j in range(4):\n",
    "        if(i > j):\n",
    "            Array1[i][j] = 0\n",
    "Array1"
   ]
  },
  {
   "cell_type": "code",
   "execution_count": 89,
   "metadata": {
    "collapsed": false
   },
   "outputs": [
    {
     "data": {
      "text/plain": [
       "array([[0.        , 0.36088242, 0.18370434, 0.31550731],\n",
       "       [0.36088242, 0.        , 0.79412048, 0.57824589],\n",
       "       [0.18370434, 0.79412048, 0.        , 0.52831434],\n",
       "       [0.31550731, 0.57824589, 0.52831434, 0.        ]])"
      ]
     },
     "execution_count": 89,
     "metadata": {},
     "output_type": "execute_result"
    }
   ],
   "source": [
    "Array2 = np.random.random(size=(4,4))\n",
    "for i in range(4):\n",
    "    for j in range(4):\n",
    "        if(i > j):\n",
    "            Array2[j][i] = Array2[i][j]\n",
    "        if(i == j):\n",
    "            Array2[j][i] = 0\n",
    "Array2"
   ]
  },
  {
   "cell_type": "markdown",
   "metadata": {},
   "source": [
    "## 計算行向量及列向量值\n",
    "### 創造一個矩陣，分別計算各行向量以及列向量的值\n",
    "- 想想如何把元素都加起來！"
   ]
  },
  {
   "cell_type": "code",
   "execution_count": 113,
   "metadata": {
    "collapsed": false
   },
   "outputs": [
    {
     "name": "stdout",
     "output_type": "stream",
     "text": [
      "[[ 0  1  2]\n",
      " [ 3  4  5]\n",
      " [ 6  7  8]\n",
      " [ 9 10 11]]\n"
     ]
    },
    {
     "data": {
      "text/plain": [
       "array([18, 22, 26])"
      ]
     },
     "execution_count": 113,
     "metadata": {},
     "output_type": "execute_result"
    }
   ],
   "source": [
    "a = np.arange(12).reshape(4,3)\n",
    "a1=a.sum(axis=1)\n",
    "a1.reshape(4,1)\n",
    "print(a)\n",
    "a.sum(axis=0)"
   ]
  },
  {
   "cell_type": "markdown",
   "metadata": {},
   "source": [
    "## 矩陣變換\n",
    "### 先自創一個10x10的矩陣，接著將大於1的數變成1，小於1的數變成0\n",
    "- 將原矩陣以及變換後的結果print出來"
   ]
  },
  {
   "cell_type": "code",
   "execution_count": 93,
   "metadata": {
    "collapsed": false
   },
   "outputs": [
    {
     "name": "stdout",
     "output_type": "stream",
     "text": [
      "[[4 7 3 4 1 1 8 5 8 3]\n",
      " [4 6 4 0 7 2 8 2 4 1]\n",
      " [6 7 4 0 5 8 4 3 1 5]\n",
      " [7 5 5 3 0 5 2 1 8 8]\n",
      " [1 2 8 5 2 2 2 9 7 7]\n",
      " [7 2 1 3 4 6 5 0 5 3]\n",
      " [0 3 0 2 1 4 0 3 4 8]\n",
      " [2 5 2 7 7 5 9 6 1 2]\n",
      " [9 2 3 4 5 5 8 8 2 9]\n",
      " [0 9 3 3 3 7 0 3 5 7]]\n",
      "[[1 1 1 1 1 1 1 1 1 1]\n",
      " [1 1 1 0 1 1 1 1 1 1]\n",
      " [1 1 1 0 1 1 1 1 1 1]\n",
      " [1 1 1 1 0 1 1 1 1 1]\n",
      " [1 1 1 1 1 1 1 1 1 1]\n",
      " [1 1 1 1 1 1 1 0 1 1]\n",
      " [0 1 0 1 1 1 0 1 1 1]\n",
      " [1 1 1 1 1 1 1 1 1 1]\n",
      " [1 1 1 1 1 1 1 1 1 1]\n",
      " [0 1 1 1 1 1 0 1 1 1]]\n"
     ]
    }
   ],
   "source": [
    "L = np.random.randint(0,10,100).reshape((10,10))\n",
    "print(L)\n",
    "L[L<1] = 0\n",
    "L[L>=1] = 1\n",
    "print(L)"
   ]
  },
  {
   "cell_type": "markdown",
   "metadata": {},
   "source": [
    "## 小知識！"
   ]
  },
  {
   "cell_type": "code",
   "execution_count": 94,
   "metadata": {
    "collapsed": false
   },
   "outputs": [
    {
     "data": {
      "text/plain": [
       "array([1, 1, 1, 1, 1])"
      ]
     },
     "execution_count": 94,
     "metadata": {},
     "output_type": "execute_result"
    }
   ],
   "source": [
    "A=np.array([1,1,1,1,1])\n",
    "A"
   ]
  },
  {
   "cell_type": "code",
   "execution_count": 95,
   "metadata": {
    "collapsed": false
   },
   "outputs": [
    {
     "data": {
      "text/plain": [
       "matrix([[1, 1, 1, 1, 1]])"
      ]
     },
     "execution_count": 95,
     "metadata": {},
     "output_type": "execute_result"
    }
   ],
   "source": [
    "a=np.matrix([1,1,1,1,1])\n",
    "a"
   ]
  },
  {
   "cell_type": "markdown",
   "metadata": {},
   "source": [
    "## 班級加權平均計算\n",
    "### 計算三個班級每一個人的分數加權平均\n",
    "- 有A, B, C三個班級，每個班級有10個人，每個人都考國英數自社5科\n",
    "- 先創造出三個矩陣代表三個班每個人的分數(五個分數就分別是國英數自社)\n",
    "- 加權值：國 0.2 英 0.25 數 0.3 自 0.1 社 0.15 \n",
    "- 接著計算各班每人的加權平均(`np.dot`)，並print出來"
   ]
  },
  {
   "cell_type": "code",
   "execution_count": 44,
   "metadata": {
    "collapsed": false
   },
   "outputs": [
    {
     "name": "stdout",
     "output_type": "stream",
     "text": [
      "A班平均： [[33.8 ]\n",
      " [70.7 ]\n",
      " [43.4 ]\n",
      " [34.45]\n",
      " [53.9 ]\n",
      " [46.2 ]\n",
      " [55.4 ]\n",
      " [49.2 ]\n",
      " [75.35]\n",
      " [36.45]]\n",
      "B班平均： [[49.25]\n",
      " [29.65]\n",
      " [56.95]\n",
      " [44.5 ]\n",
      " [56.15]\n",
      " [22.85]\n",
      " [34.6 ]\n",
      " [51.4 ]\n",
      " [17.05]\n",
      " [57.9 ]]\n",
      "C班平均： [[37.25]\n",
      " [55.5 ]\n",
      " [43.25]\n",
      " [42.8 ]\n",
      " [77.65]\n",
      " [48.6 ]\n",
      " [29.15]\n",
      " [55.85]\n",
      " [47.85]\n",
      " [42.85]]\n"
     ]
    }
   ],
   "source": [
    "A = np.random.randint(0,101,50).reshape((10,5))\n",
    "B = np.random.randint(0,101,50).reshape((10,5))\n",
    "C = np.random.randint(0,101,50).reshape((10,5))\n",
    "\n",
    "weights = np.array([[0.2],[0.25],[0.3],[0.1],[0.15]])\n",
    "\n",
    "Aw = np.dot(A,weights)\n",
    "Bw = np.dot(B,weights)\n",
    "Cw = np.dot(C,weights)\n",
    "print(\"A班平均：\", Aw)\n",
    "print(\"B班平均：\", Bw)\n",
    "print(\"C班平均：\", Cw)"
   ]
  },
  {
   "cell_type": "markdown",
   "metadata": {},
   "source": [
    "## 隨機生成數據並計算變化率\n",
    "### 並將變化率的圖畫出\n",
    "- `y = np.random.rand(50)`，先產生隨機資料\n",
    "- 變化率 = (後項-前項)/前項，最後將所有的變化率圖形畫出來"
   ]
  },
  {
   "cell_type": "code",
   "execution_count": 114,
   "metadata": {
    "collapsed": false
   },
   "outputs": [
    {
     "data": {
      "text/plain": [
       "[<matplotlib.lines.Line2D at 0x109c68b70>]"
      ]
     },
     "execution_count": 114,
     "metadata": {},
     "output_type": "execute_result"
    },
    {
     "data": {
      "image/png": "[encoded data removed]",
      "text/plain": [
       "<matplotlib.figure.Figure at 0x109c14400>"
      ]
     },
     "metadata": {},
     "output_type": "display_data"
    }
   ],
   "source": [
    "y = np.random.rand(50)\n",
    "change_rate = []\n",
    "for i in range(len(y)-1):\n",
    "    change_rate.append((y[i+1]-y[i])/y[i])\n",
    "plt.plot(change_rate)\n"
   ]
  },
  {
   "cell_type": "markdown",
   "metadata": {},
   "source": [
    "## 標準化資料\n",
    "### 將一個5000筆的資料標準化\n",
    "- 先隨機取5000筆資料，要記得不要在0~1區間\n",
    "- 將這個array標準化，並print出來"
   ]
  },
  {
   "cell_type": "code",
   "execution_count": 117,
   "metadata": {
    "collapsed": false
   },
   "outputs": [
    {
     "data": {
      "text/plain": [
       "array([ 0.97893187,  1.05769032,  0.73580797, ...,  0.90359771,\n",
       "       -1.27766882,  1.08850884])"
      ]
     },
     "execution_count": 117,
     "metadata": {},
     "output_type": "execute_result"
    }
   ],
   "source": [
    "\n",
    "A = np.random.randint(0,1000,5000)\n",
    "\n",
    "B = (A-A.mean())/A.std()\n",
    "B"
   ]
  },
  {
   "cell_type": "markdown",
   "metadata": {},
   "source": [
    "# -----------------------------難題區-------------------------------------"
   ]
  },
  {
   "cell_type": "markdown",
   "metadata": {},
   "source": [
    "## Bubble Sort\n",
    "### 經典資料排序問題！\n",
    "- `a=[2,4,7,1,3,4,8,10,5]`，將a由小至大重新排列\n",
    "- 想想如何用 `for` 及 `if` 兩個功能就將這個序列整理好"
   ]
  },
  {
   "cell_type": "code",
   "execution_count": 98,
   "metadata": {
    "collapsed": false
   },
   "outputs": [
    {
     "name": "stdout",
     "output_type": "stream",
     "text": [
      "[2, 4, 1, 7, 3, 4, 8, 10, 5]\n",
      "[2, 4, 1, 3, 7, 4, 8, 10, 5]\n",
      "[2, 4, 1, 3, 4, 7, 8, 10, 5]\n",
      "[2, 4, 1, 3, 4, 7, 8, 5, 10]\n",
      "[2, 1, 4, 3, 4, 7, 8, 5, 10]\n",
      "[2, 1, 3, 4, 4, 7, 8, 5, 10]\n",
      "[2, 1, 3, 4, 4, 7, 5, 8, 10]\n",
      "[1, 2, 3, 4, 4, 7, 5, 8, 10]\n",
      "[1, 2, 3, 4, 4, 5, 7, 8, 10]\n"
     ]
    }
   ],
   "source": [
    "a=[2,4,7,1,3,4,8,10,5]\n",
    "for i in range(len(a)-1):\n",
    "    for j in range(len(a)-i-1):\n",
    "        if(a[j]>a[j+1]):\n",
    "            tmp=a[j]\n",
    "            a[j]=a[j+1]\n",
    "            a[j+1]=tmp\n",
    "            print(list(a))"
   ]
  },
  {
   "cell_type": "markdown",
   "metadata": {},
   "source": [
    "## 費波那契數列\n",
    "### 第n項 ＝ 第n-1項 ＋ 第n-2項\n",
    "- 自定義一個 `fibonacci(n)` 函數，n是第n項的值"
   ]
  },
  {
   "cell_type": "code",
   "execution_count": 99,
   "metadata": {
    "collapsed": false
   },
   "outputs": [
    {
     "data": {
      "text/plain": [
       "55"
      ]
     },
     "execution_count": 99,
     "metadata": {},
     "output_type": "execute_result"
    }
   ],
   "source": [
    "#求Fibonacci 數列(a1 =1, a2 = 1, a3 = 2,之後的項都是前兩項的和)\n",
    "def fibonacci(n):\n",
    "    if n ==0 or n ==1:\n",
    "        return n\n",
    "    else:\n",
    "        return fibonacci(n-1)+fibonacci(n-2)\n",
    "fibonacci(10)"
   ]
  },
  {
   "cell_type": "markdown",
   "metadata": {},
   "source": [
    "## 賭大小機器人\n",
    "### 用while if 就可以設計出來！\n",
    "- 起始金額為100，贏或輸都是想要賭的錢\n",
    "- 投三顆骰子，如果總和是3-10則是小，如果總和是11-18則是大\n",
    "- 須先執行`from IPython.display import clear_output`，此功能是可以將前一次的產出清空"
   ]
  },
  {
   "cell_type": "code",
   "execution_count": 118,
   "metadata": {
    "collapsed": false
   },
   "outputs": [
    {
     "name": "stdout",
     "output_type": "stream",
     "text": [
      "請輸入大或小:大\n",
      "你要下注多少錢:100\n",
      "[3 3 2]   8點小,你輸了\n",
      "你現在有 0 元\n",
      "滾吧!窮鬼\n"
     ]
    }
   ],
   "source": [
    "from IPython.display import clear_output\n",
    "money=100\n",
    "while(money>0):\n",
    "    clear_output(wait=True)\n",
    "    s=input(\"請輸入大或小:\")\n",
    "    while(s!=\"大\"and s!=\"小\"):\n",
    "        s=input(\"請輸入大或小:\")\n",
    "    b=int(input(\"你要下注多少錢:\"))\n",
    "    while(b>money or b<=0):\n",
    "        b=int(input(\"你要下注多少錢:\"))\n",
    "    a=np.random.randint(1,7,size=3)\n",
    "    print(a,\" \",a.sum(),end='')\n",
    "    if(a.sum()>=3 and a.sum()<=10):\n",
    "        if(s==\"小\"):\n",
    "            print(\"點小,你贏了\")\n",
    "            money+=b\n",
    "        else:\n",
    "            print(\"點小,你輸了\")\n",
    "            money-=b\n",
    "    elif(a.sum()>=11 and a.sum()<=18):\n",
    "        if(s==\"大\"):\n",
    "            print(\"點大,你贏了\")\n",
    "            money+=b\n",
    "        else:\n",
    "            print(\"點大,你輸了\")\n",
    "            money-=b\n",
    "    print(\"你現在有\",money,\"元\")\n",
    "print(\"滾吧!窮鬼\")"
   ]
  },
  {
   "cell_type": "code",
   "execution_count": null,
   "metadata": {
    "collapsed": true
   },
   "outputs": [],
   "source": []
  }
 ],
 "metadata": {
  "kernelspec": {
   "display_name": "Python 3",
   "language": "python",
   "name": "python3"
  },
  "language_info": {
   "codemirror_mode": {
    "name": "ipython",
    "version": 3
   },
   "file_extension": ".py",
   "mimetype": "text/x-python",
   "name": "python",
   "nbconvert_exporter": "python",
   "pygments_lexer": "ipython3",
   "version": "3.6.0"
  }
 },
 "nbformat": 4,
 "nbformat_minor": 2
}
