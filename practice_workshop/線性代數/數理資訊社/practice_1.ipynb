{
 "cells": [
  {
   "cell_type": "markdown",
   "metadata": {},
   "source": [
    "# Hello World"
   ]
  },
  {
   "cell_type": "code",
   "execution_count": 16,
   "metadata": {},
   "outputs": [
    {
     "name": "stdout",
     "output_type": "stream",
     "text": [
      "2.718281828459045\n",
      "0\n",
      "1\n",
      "2\n",
      "3\n",
      "4\n",
      "5\n",
      "6\n",
      "7\n",
      "8\n",
      "9\n"
     ]
    }
   ],
   "source": [
    "import numpy as np\n",
    "import matplotlib.pyplot as plt\n",
    "print(np.exp(1))\n",
    "for i in range(10):\n",
    "    print(i)"
   ]
  },
  {
   "cell_type": "code",
   "execution_count": 19,
   "metadata": {},
   "outputs": [
    {
     "data": {
      "text/plain": [
       "[<matplotlib.lines.Line2D at 0x111b43828>]"
      ]
     },
     "execution_count": 19,
     "metadata": {},
     "output_type": "execute_result"
    },
    {
     "data": {
      "image/png": "[encoded data removed]",
      "text/plain": [
       "<Figure size 432x288 with 1 Axes>"
      ]
     },
     "metadata": {},
     "output_type": "display_data"
    }
   ],
   "source": [
    "a=[1,2,3,4]\n",
    "plt.plot(a)"
   ]
  },
  {
   "cell_type": "code",
   "execution_count": 41,
   "metadata": {},
   "outputs": [
    {
     "data": {
      "text/plain": [
       "[<matplotlib.lines.Line2D at 0x115582f60>]"
      ]
     },
     "execution_count": 41,
     "metadata": {},
     "output_type": "execute_result"
    },
    {
     "data": {
      "image/png": "[encoded data removed]",
      "text/plain": [
       "<Figure size 432x288 with 1 Axes>"
      ]
     },
     "metadata": {},
     "output_type": "display_data"
    }
   ],
   "source": [
    "np.random.seed(1)\n",
    "n1 = np.random.random(10)\n",
    "n1\n",
    "plt.plot(n1)"
   ]
  },
  {
   "cell_type": "code",
   "execution_count": 1,
   "metadata": {},
   "outputs": [
    {
     "name": "stdout",
     "output_type": "stream",
     "text": [
      "{'會員': {'Handsome': {'Height': 180, 'age': 18, 'weight': 60}, 'Bill': {'Height': 160, 'age': 20, 'weight': 50}}}\n"
     ]
    }
   ],
   "source": [
    "member = dict()\n",
    "member[\"會員\"] = dict()\n",
    "\n",
    "member[\"會員\"][\"Handsome\"] = dict()\n",
    "member[\"會員\"][\"Handsome\"][\"Height\"] = 180\n",
    "member[\"會員\"][\"Handsome\"][\"age\"] = 18\n",
    "member[\"會員\"][\"Handsome\"][\"weight\"] = 60\n",
    "member[\"會員\"][\"Bill\"] = dict()\n",
    "member[\"會員\"][\"Bill\"][\"Height\"] = 160\n",
    "member[\"會員\"][\"Bill\"][\"age\"] = 20\n",
    "member[\"會員\"][\"Bill\"][\"weight\"] = 50\n",
    "print(member)"
   ]
  },
  {
   "cell_type": "code",
   "execution_count": 2,
   "metadata": {},
   "outputs": [
    {
     "name": "stdout",
     "output_type": "stream",
     "text": [
      "['會員']\n"
     ]
    }
   ],
   "source": [
    "key = list()\n",
    "for i in member.keys() :\n",
    "    key.append(i)\n",
    "    \n",
    "print(key)"
   ]
  },
  {
   "cell_type": "code",
   "execution_count": 5,
   "metadata": {},
   "outputs": [
    {
     "name": "stdout",
     "output_type": "stream",
     "text": [
      "['a', 'b', 'c', 'd', 'e', 'f']\n",
      "<zip object at 0x103479f88>\n"
     ]
    }
   ],
   "source": [
    "l = ['a', 'b', 'c', 'd', 'e','f']\n",
    "print(l)\n",
    "\n",
    "#打印列表\n",
    "print(zip(l[:-1],l[1:]))"
   ]
  },
  {
   "cell_type": "code",
   "execution_count": 15,
   "metadata": {},
   "outputs": [
    {
     "name": "stdout",
     "output_type": "stream",
     "text": [
      "0\n",
      "('f', 'f', 'f')\n",
      "1\n",
      "('l', 'l', 'l')\n",
      "2\n",
      "('o', 'o', 'i')\n",
      "3\n",
      "('w', 'w', 'g')\n"
     ]
    }
   ],
   "source": [
    "nums = ['flower','flow','flight']\n",
    "count = 0\n",
    "for i in zip(*nums):\n",
    "    print(count)\n",
    "    print(i)\n",
    "    count = count + 1"
   ]
  },
  {
   "cell_type": "code",
   "execution_count": null,
   "metadata": {},
   "outputs": [],
   "source": []
  }
 ],
 "metadata": {
  "kernelspec": {
   "display_name": "Python 3",
   "language": "python",
   "name": "python3"
  },
  "language_info": {
   "codemirror_mode": {
    "name": "ipython",
    "version": 3
   },
   "file_extension": ".py",
   "mimetype": "text/x-python",
   "name": "python",
   "nbconvert_exporter": "python",
   "pygments_lexer": "ipython3",
   "version": "3.6.4"
  }
 },
 "nbformat": 4,
 "nbformat_minor": 2
}
