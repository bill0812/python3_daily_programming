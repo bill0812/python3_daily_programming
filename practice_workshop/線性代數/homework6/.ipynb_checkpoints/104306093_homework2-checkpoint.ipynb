{
 "cells": [
  {
   "cell_type": "markdown",
   "metadata": {},
   "source": [
    "## First we import some useful packages and startup our <font style=\"color:red\">Sympy</font> display"
   ]
  },
  {
   "cell_type": "code",
   "execution_count": null,
   "metadata": {},
   "outputs": [],
   "source": [
    "%matplotlib inline\n",
    "import numpy as np\n",
    "import sympy as sp\n",
    "import matplotlib.pyplot as plt\n",
    "from IPython.display import clear_output\n",
    "\n",
    "# show sympy startup display output\n",
    "sp.init_printing(use_unicode = True)"
   ]
  },
  {
   "cell_type": "markdown",
   "metadata": {},
   "source": [
    "### Then we clarify some functions includes caclulating upper triangle, determinant, and also caclulating it by <font style=\"color:red\">Det( )</font> in Sympy package\n",
    "    1. menu \n",
    "    2. get_uppertriangle\n",
    "    3. get_determinant\n",
    "    \n",
    "### And also provide users to insert N*N matrix that they want.\n",
    "\n",
    "> 1. #### P.S. But some \"except error may come out, but that just (a) typo or a small problem(s) that I didn't note in this program. Correct those is not that hard.\n",
    "> 2. #### The caculate of determinant is obviously ok in this program. If wrong, just let me know."
   ]
  },
  {
   "cell_type": "code",
   "execution_count": null,
   "metadata": {},
   "outputs": [],
   "source": [
    "# M = sp.Matrix([[1, 2, 3, 4], [2, 6, 8, 9], [3, 5, 4, 7],[7, 5, 3, 1]])\n",
    "# M\n",
    "\n",
    "def menu():\n",
    "    matrix = list()\n",
    "    N = input(\"Enter N you want : \")\n",
    "    if int(N) >= 2 :\n",
    "        print(\"Enter the {}*{} matrix : \".format(N,N))\n",
    "        for i in range(int(N)):\n",
    "            row_num = list(map(int, input(\"Enter {} row's number : \".format(i+1)).split()))\n",
    "            print(row_num)\n",
    "            if len(row_num) != int(N) :\n",
    "                print(\"Enter Wrong ! Start Over Again !\")\n",
    "                break\n",
    "            else :\n",
    "                matrix.append(row_num)\n",
    "        return N , matrix\n",
    "    else :\n",
    "        print(\"Enter Wrong ! Start Over Again !\")\n",
    "        return 0 , 0\n",
    "    \n",
    "def get_uppertriangle(n,a):\n",
    "    M = sp.Matrix(a)\n",
    "    for i in range(n):\n",
    "        current_list = list(M.columnspace()[i])\n",
    "        for x in range(i,n) :\n",
    "            if x != 0 and x != i:\n",
    "                current_multiple = float(current_list[x]/current_list[i])\n",
    "                M.zip_row_op(x, i, lambda v, u: v - current_multiple*u)\n",
    "    return M\n",
    "\n",
    "def get_determinant(n,a):\n",
    "    current_det = 1\n",
    "    for i in range(n) :\n",
    "#       print(a[i][i])\n",
    "        current_det = current_det*a[i][i]\n",
    "        \n",
    "    return current_det\n",
    "\n",
    "if __name__ == \"__main__\" :\n",
    "    time = 1\n",
    "    while(time!=-1):\n",
    "        N , matrix = menu()\n",
    "        if N !=0 :\n",
    "            M = get_uppertriangle(n = int(N),a = np.array(matrix))\n",
    "            determinant = get_determinant(n = int(N),a = np.array(M))\n",
    "            print(\"Your upper triangle is : \\n\")\n",
    "            print(M)\n",
    "            print(\"\\n Let's see determinant by upper triangle is : \\n\")\n",
    "            print(determinant)\n",
    "            print(\"\\n Then see the determinant by python's (Sympy) fucntion is : {}\".format(M.det()))\n",
    "            try: \n",
    "                time = int(input(\"Press any number to play again !(-1 to leave)\"))\n",
    "            except ValueError:\n",
    "                print(\"That wasn't an integer : \")\n",
    "            clear_output()"
   ]
  }
 ],
 "metadata": {
  "kernelspec": {
   "display_name": "Python 3",
   "language": "python",
   "name": "python3"
  },
  "language_info": {
   "codemirror_mode": {
    "name": "ipython",
    "version": 3
   },
   "file_extension": ".py",
   "mimetype": "text/x-python",
   "name": "python",
   "nbconvert_exporter": "python",
   "pygments_lexer": "ipython3",
   "version": "3.6.4"
  }
 },
 "nbformat": 4,
 "nbformat_minor": 2
}
