{
  "nbformat": 4,
  "nbformat_minor": 0,
  "metadata": {
    "colab": {
      "name": "你好，Colaboratory",
      "version": "0.3.2",
      "provenance": [],
      "collapsed_sections": []
    },
    "kernelspec": {
      "display_name": "Python 3",
      "name": "python3"
    }
  },
  "cells": [
    {
      "metadata": {
        "id": "Qm1LjNIO-hTV",
        "colab_type": "code",
        "colab": {
          "base_uri": "https://localhost:8080/",
          "height": 84
        },
        "outputId": "822f146b-1098-4894-c849-aa72ff9af498"
      },
      "cell_type": "code",
      "source": [
        "from sympy.matrices import Matrix\n",
        "M = Matrix([[1,0,0], [0,1,0], [0,0,1]])\n",
        "M.row_swap(1, 2)\n",
        "M"
      ],
      "execution_count": 10,
      "outputs": [
        {
          "output_type": "execute_result",
          "data": {
            "text/plain": [
              "Matrix([\n",
              "[1, 0, 0],\n",
              "[0, 0, 1],\n",
              "[0, 1, 0]])"
            ]
          },
          "metadata": {
            "tags": []
          },
          "execution_count": 10
        }
      ]
    },
    {
      "metadata": {
        "id": "tIAA4petFOjl",
        "colab_type": "code",
        "colab": {
          "base_uri": "https://localhost:8080/",
          "height": 84
        },
        "outputId": "8bd078f0-513c-4966-e8a2-f5bde82fb7b1"
      },
      "cell_type": "code",
      "source": [
        "from sympy.matrices import Matrix\n",
        "M = Matrix([[1,0,0], [0,1,0], [0,0,1]])\n",
        "M.row_op(1, lambda v, j: 2*v ) \n",
        "M"
      ],
      "execution_count": 23,
      "outputs": [
        {
          "output_type": "execute_result",
          "data": {
            "text/plain": [
              "Matrix([\n",
              "[1, 0, 0],\n",
              "[0, 2, 0],\n",
              "[0, 0, 1]])"
            ]
          },
          "metadata": {
            "tags": []
          },
          "execution_count": 23
        }
      ]
    },
    {
      "metadata": {
        "id": "VrzqacRDA0oU",
        "colab_type": "code",
        "colab": {
          "base_uri": "https://localhost:8080/",
          "height": 84
        },
        "outputId": "e8c1f028-9525-45d4-f3ab-cdda6fc292cd"
      },
      "cell_type": "code",
      "source": [
        "from sympy.matrices import Matrix\n",
        "M = Matrix([[1,0,0], [0,1,0], [0,0,1]])\n",
        "M.row_op(1, lambda v, j: v + 2*M[0, j]) \n",
        "M"
      ],
      "execution_count": 11,
      "outputs": [
        {
          "output_type": "execute_result",
          "data": {
            "text/plain": [
              "Matrix([\n",
              "[1, 0, 0],\n",
              "[2, 1, 0],\n",
              "[0, 0, 1]])"
            ]
          },
          "metadata": {
            "tags": []
          },
          "execution_count": 11
        }
      ]
    }
  ]
}