{
 "cells": [
  {
   "cell_type": "code",
   "execution_count": 1,
   "metadata": {},
   "outputs": [],
   "source": [
    "import sympy as sym\n",
    "import numpy as np\n",
    "import matplotlib.pyplot as plt"
   ]
  },
  {
   "cell_type": "code",
   "execution_count": 5,
   "metadata": {},
   "outputs": [],
   "source": [
    "from sympy import *"
   ]
  },
  {
   "cell_type": "code",
   "execution_count": 14,
   "metadata": {},
   "outputs": [],
   "source": [
    "init_printing(use_unicode = True)"
   ]
  },
  {
   "cell_type": "code",
   "execution_count": 61,
   "metadata": {},
   "outputs": [
    {
     "data": {
      "text/latex": [
       "$$\\left[\\begin{matrix}5 & 2 & 3\\end{matrix}\\right]$$"
      ],
      "text/plain": [
       "[5  2  3]"
      ]
     },
     "execution_count": 61,
     "metadata": {},
     "output_type": "execute_result"
    }
   ],
   "source": [
    "M = Matrix([[5,2,3], [1,0,0], [9,4,5]])\n",
    "M.row(0)"
   ]
  },
  {
   "cell_type": "code",
   "execution_count": 59,
   "metadata": {},
   "outputs": [
    {
     "data": {
      "text/latex": [
       "$$\\left[\\begin{matrix}5 & 2 & 3\\\\1 & 0 & 0\\\\9 & 4 & 5\\end{matrix}\\right]$$"
      ],
      "text/plain": [
       "⎡5  2  3⎤\n",
       "⎢       ⎥\n",
       "⎢1  0  0⎥\n",
       "⎢       ⎥\n",
       "⎣9  4  5⎦"
      ]
     },
     "execution_count": 59,
     "metadata": {},
     "output_type": "execute_result"
    }
   ],
   "source": [
    "Matrix([[5,2,3], [1,0,0], [9,4,5]])"
   ]
  },
  {
   "cell_type": "code",
   "execution_count": 62,
   "metadata": {},
   "outputs": [
    {
     "data": {
      "text/latex": [
       "$$\\left[\\begin{matrix}1 & 0 & 0\\\\9 & 4 & 5\\\\5 & 2 & 3\\end{matrix}\\right]$$"
      ],
      "text/plain": [
       "⎡1  0  0⎤\n",
       "⎢       ⎥\n",
       "⎢9  4  5⎥\n",
       "⎢       ⎥\n",
       "⎣5  2  3⎦"
      ]
     },
     "execution_count": 62,
     "metadata": {},
     "output_type": "execute_result"
    }
   ],
   "source": [
    "#TYPE I\n",
    "M.row_swap(1,2)\n",
    "M.row_swap(2,0)\n",
    "M"
   ]
  },
  {
   "cell_type": "code",
   "execution_count": 68,
   "metadata": {},
   "outputs": [],
   "source": [
    "#TYPE II\n",
    "a= np.array([5,2,3])\n",
    "b= np.array([1,0,0])\n",
    "c= np.array([9,4,5])\n",
    "\n",
    "M=Matrix([a, b, c])"
   ]
  },
  {
   "cell_type": "code",
   "execution_count": 70,
   "metadata": {},
   "outputs": [
    {
     "data": {
      "text/latex": [
       "$$\\left[\\begin{matrix}5 & 2 & 3\\\\1 & 0 & 0\\\\27 & 12 & 15\\end{matrix}\\right]$$"
      ],
      "text/plain": [
       "⎡5   2   3 ⎤\n",
       "⎢          ⎥\n",
       "⎢1   0   0 ⎥\n",
       "⎢          ⎥\n",
       "⎣27  12  15⎦"
      ]
     },
     "execution_count": 70,
     "metadata": {},
     "output_type": "execute_result"
    }
   ],
   "source": [
    "M=Matrix([a, b, c*3])\n",
    "M"
   ]
  },
  {
   "cell_type": "code",
   "execution_count": 71,
   "metadata": {},
   "outputs": [
    {
     "data": {
      "text/latex": [
       "$$\\left[\\begin{matrix}50 & 22 & 28\\\\1 & 0 & 0\\\\9 & 4 & 5\\end{matrix}\\right]$$"
      ],
      "text/plain": [
       "⎡50  22  28⎤\n",
       "⎢          ⎥\n",
       "⎢1   0   0 ⎥\n",
       "⎢          ⎥\n",
       "⎣9   4   5 ⎦"
      ]
     },
     "execution_count": 71,
     "metadata": {},
     "output_type": "execute_result"
    }
   ],
   "source": [
    "#TYPE III\n",
    "a= np.array([5,2,3])\n",
    "b= np.array([1,0,0])\n",
    "c= np.array([9,4,5])\n",
    "\n",
    "M=Matrix([a, b, c])\n",
    "M=Matrix([a+c*5, b, c])\n",
    "M"
   ]
  },
  {
   "cell_type": "code",
   "execution_count": null,
   "metadata": {},
   "outputs": [],
   "source": []
  }
 ],
 "metadata": {
  "kernelspec": {
   "display_name": "Python 3",
   "language": "python",
   "name": "python3"
  },
  "language_info": {
   "codemirror_mode": {
    "name": "ipython",
    "version": 3
   },
   "file_extension": ".py",
   "mimetype": "text/x-python",
   "name": "python",
   "nbconvert_exporter": "python",
   "pygments_lexer": "ipython3",
   "version": "3.6.5"
  }
 },
 "nbformat": 4,
 "nbformat_minor": 2
}
