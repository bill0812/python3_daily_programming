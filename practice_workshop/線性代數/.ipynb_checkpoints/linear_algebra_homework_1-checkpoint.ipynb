{
 "cells": [
  {
   "cell_type": "code",
   "execution_count": 13,
   "metadata": {},
   "outputs": [],
   "source": [
    "#直接顯示在網頁上\n",
    "%matplotlib inline \n",
    "\n",
    "import numpy as np\n",
    "import matplotlib.pyplot as plt"
   ]
  },
  {
   "cell_type": "code",
   "execution_count": 59,
   "metadata": {},
   "outputs": [
    {
     "name": "stdout",
     "output_type": "stream",
     "text": [
      "degree of x :\n",
      "[64 71 65 48 64 67 77 63 33 30]\n",
      "y :\n",
      "[13.92774052 14.68257414 14.03453218 11.96244078 13.92774052 14.19316156\n",
      " 15.30121531 13.78950467  9.94625089  9.36923275]\n"
     ]
    }
   ],
   "source": [
    "# random degree\n",
    "x_point = np.random.randint(0,91, size=(10))\n",
    "print(\"degree of x :\" + \"\\n\" +  str(x))\n",
    "\n",
    "# crerate formula for y\n",
    "y_point = (np.sin(x) + np.pi*x - np.sqrt(x))**0.5\n",
    "print(\"y :\" + \"\\n\" +  str(y))"
   ]
  },
  {
   "cell_type": "code",
   "execution_count": 64,
   "metadata": {},
   "outputs": [
    {
     "name": "stdout",
     "output_type": "stream",
     "text": [
      "77\n"
     ]
    },
    {
     "data": {
      "image/png": "[encoded data removed]",
      "text/plain": [
       "<Figure size 432x288 with 1 Axes>"
      ]
     },
     "metadata": {},
     "output_type": "display_data"
    }
   ],
   "source": [
    "plt.plot(x_point, y_point, 'o')\n",
    "line1 = np.polyfit(x_point, y_point, 1) \n",
    "polynomial1 = np.poly1d(line1) \n",
    "\n",
    "# 畫出線與點\n",
    "print(max(x_point))\n",
    "xaxis = np.linspace(0, max(x_point), 1000)\n",
    "plt.plot(x_point, y_point, 'o', polynomial1(xaxis),'-g')\n",
    "\n",
    "# 標示點的類別並顯示\n",
    "plt.legend(['Scattering point of x,y', 'linear regression'])\n",
    "plt.show()"
   ]
  },
  {
   "cell_type": "code",
   "execution_count": 34,
   "metadata": {},
   "outputs": [
    {
     "name": "stdout",
     "output_type": "stream",
     "text": [
      "[0.57786208 0.82052441 0.86058788 0.43020095 0.04657695 0.26212764\n",
      " 0.9163003 ]\n",
      "[0.91496845 0.4587465  0.02522432 0.32281624 0.10153732 0.12345922\n",
      " 0.14483299]\n"
     ]
    }
   ],
   "source": [
    "# 額外想到回歸的圖片，上網了解後實作\n",
    "\n",
    "#隨機產生資料點來Fit\n",
    "x_regression = np.random.rand(7)\n",
    "y_regression = np.random.rand(7)\n",
    "print(x)\n",
    "print(y)"
   ]
  },
  {
   "cell_type": "code",
   "execution_count": 37,
   "metadata": {},
   "outputs": [
    {
     "name": "stdout",
     "output_type": "stream",
     "text": [
      "Expected y : \n",
      "[-11.03091659  13.10245367  -3.0103146    0.20529312]\n",
      "\n",
      "Polynomial is \n",
      "        3        2\n",
      "-11.03 x + 13.1 x - 3.01 x + 0.2053\n",
      "\n",
      "Expected y : \n",
      "[-2.50684844  2.6276428  -0.15223148]\n",
      "\n",
      "Polynomial is :\n",
      "        2\n",
      "-2.507 x + 2.628 x - 0.1522\n"
     ]
    }
   ],
   "source": [
    "# 最高次項為3次方的多項式，預測以 X 點為基礎的預測曲線或線性直線\n",
    "line3 = np.polyfit(x_regression, y_regression, 3) \n",
    "polynomial3 = np.poly1d(line3) \n",
    "print(\"Expected y : \" + \"\\n\" + str(line3))\n",
    "print( \"\\n\" + \"Polynomial is \" + \"\\n\" + str(pn3))\n",
    "\n",
    "# 最高次項為2次方的多項式，預測以 X 點為基礎的預測曲線或線性直線\n",
    "line2 = np.polyfit(x_regression, y_regression, 2) \n",
    "polynomial2 = np.poly1d(line2)\n",
    "print( \"\\n\" + \"Expected y : \" + \"\\n\" +  str(line2))\n",
    "print( \"\\n\" + \"Polynomial is :\" + \"\\n\" + str(pn2))"
   ]
  },
  {
   "cell_type": "code",
   "execution_count": 56,
   "metadata": {},
   "outputs": [
    {
     "ename": "NameError",
     "evalue": "name 'x_regression' is not defined",
     "output_type": "error",
     "traceback": [
      "\u001b[0;31m---------------------------------------------------------------------------\u001b[0m",
      "\u001b[0;31mNameError\u001b[0m                                 Traceback (most recent call last)",
      "\u001b[0;32m<ipython-input-56-bad284ad6b20>\u001b[0m in \u001b[0;36m<module>\u001b[0;34m()\u001b[0m\n\u001b[1;32m      3\u001b[0m \u001b[0;34m\u001b[0m\u001b[0m\n\u001b[1;32m      4\u001b[0m \u001b[0;31m# 畫出三條線\u001b[0m\u001b[0;34m\u001b[0m\u001b[0;34m\u001b[0m\u001b[0m\n\u001b[0;32m----> 5\u001b[0;31m \u001b[0mplt\u001b[0m\u001b[0;34m.\u001b[0m\u001b[0mplot\u001b[0m\u001b[0;34m(\u001b[0m\u001b[0mx_regression\u001b[0m\u001b[0;34m,\u001b[0m \u001b[0my_regression\u001b[0m\u001b[0;34m,\u001b[0m \u001b[0;34m'o'\u001b[0m\u001b[0;34m,\u001b[0m \u001b[0mpn3\u001b[0m\u001b[0;34m(\u001b[0m\u001b[0mxaxis\u001b[0m\u001b[0;34m)\u001b[0m\u001b[0;34m,\u001b[0m\u001b[0;34m'-g'\u001b[0m\u001b[0;34m,\u001b[0m\u001b[0mpn2\u001b[0m\u001b[0;34m(\u001b[0m\u001b[0mxaxis\u001b[0m\u001b[0;34m)\u001b[0m\u001b[0;34m,\u001b[0m\u001b[0;34m'-b'\u001b[0m\u001b[0;34m)\u001b[0m\u001b[0;34m\u001b[0m\u001b[0m\n\u001b[0m\u001b[1;32m      6\u001b[0m \u001b[0;34m\u001b[0m\u001b[0m\n\u001b[1;32m      7\u001b[0m \u001b[0;31m# 標示點的類別並顯示\u001b[0m\u001b[0;34m\u001b[0m\u001b[0;34m\u001b[0m\u001b[0m\n",
      "\u001b[0;31mNameError\u001b[0m: name 'x_regression' is not defined"
     ]
    }
   ],
   "source": [
    "# 在 0 與 1 間分成一千個點\n",
    "xaxis = np.linspace(0, 1, 1000)\n",
    "\n",
    "# 畫出線與點\n",
    "plt.plot(x_regression, y_regression, 'o', pn3(xaxis),'-g',pn2(xaxis),'-b')\n",
    "\n",
    "# 標示點的類別並顯示\n",
    "plt.legend(['Scattering point of x,y', '3rd polynomial regression', '2rd polynomial regression'])\n",
    "plt.axis([0,1,0,1])\n",
    "plt.show()"
   ]
  },
  {
   "cell_type": "code",
   "execution_count": null,
   "metadata": {},
   "outputs": [],
   "source": []
  },
  {
   "cell_type": "code",
   "execution_count": null,
   "metadata": {},
   "outputs": [],
   "source": []
  },
  {
   "cell_type": "code",
   "execution_count": null,
   "metadata": {},
   "outputs": [],
   "source": []
  },
  {
   "cell_type": "code",
   "execution_count": null,
   "metadata": {},
   "outputs": [],
   "source": []
  }
 ],
 "metadata": {
  "kernelspec": {
   "display_name": "Python 3",
   "language": "python",
   "name": "python3"
  },
  "language_info": {
   "codemirror_mode": {
    "name": "ipython",
    "version": 3
   },
   "file_extension": ".py",
   "mimetype": "text/x-python",
   "name": "python",
   "nbconvert_exporter": "python",
   "pygments_lexer": "ipython3",
   "version": "3.6.4"
  }
 },
 "nbformat": 4,
 "nbformat_minor": 2
}
