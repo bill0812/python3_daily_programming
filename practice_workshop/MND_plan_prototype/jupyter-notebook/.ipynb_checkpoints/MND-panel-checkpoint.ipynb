{
 "cells": [
  {
   "cell_type": "code",
   "execution_count": 9,
   "metadata": {
    "extensions": {
     "jupyter_dashboards": {
      "version": 1,
      "views": {
       "grid_default": {},
       "report_default": {}
      }
     }
    }
   },
   "outputs": [
    {
     "name": "stdout",
     "output_type": "stream",
     "text": [
      "currently, the satellite_image folder has : 0 image(s) \n"
     ]
    }
   ],
   "source": [
    "import cv2, os, arcgis, time, glob\n",
    "from matplotlib import pyplot as plt\n",
    "from arcgis.features import SpatialDataFrame\n",
    "from arcgis.geometry import Geometry, SpatialReference\n",
    "from arcgis.geoenrichment import enrich\n",
    "from arcgis.gis import GIS\n",
    "from arcgis.geocoding import geocode, reverse_geocode\n",
    "from arcgis.widgets import MapView\n",
    "\n",
    "from ipywidgets import widgets, Box, HBox, VBox, Layout, AppLayout, GridspecLayout , Accordion\n",
    "from IPython.display import clear_output, display, Markdown, SVG\n",
    "\n",
    "# Create a GIS object, as an anonymous user for this example\n",
    "gis = GIS('https://www.arcgis.com', 'maxwell111023@gmail.com', 'billmaxwell13023')\n",
    "map1 = gis.map('Taiwan')\n",
    "map1.mode = \"3D\"\n",
    "map1.tilt = 0\n",
    "map1.layout.height='600px'\n",
    "map1.basemap = \"satellite\"\n",
    "latitude = 25.01\n",
    "longtitude = 121.30\n",
    "\n",
    "# create image dir\n",
    "satellite_image_dir = \"satellite_image/\"\n",
    "satellite_image_count = len(glob.glob(satellite_image_dir + '.*png'))\n",
    "current_image_path = \"\"\n",
    "current_image = None\n",
    "if not os.path.exists(satellite_image_dir):\n",
    "    os.makedirs(satellite_image_dir)\n",
    "    \n",
    "print(\"currently, the satellite_image folder has : {} image(s) \".format(satellite_image_count))"
   ]
  },
  {
   "cell_type": "code",
   "execution_count": 11,
   "metadata": {},
   "outputs": [],
   "source": [
    "def country_select_change(change) :\n",
    "    \n",
    "    global gis, map1\n",
    "    place = change['new']\n",
    "    # change place\n",
    "    if place != '' :\n",
    "        address_decode = geocode(place)\n",
    "        \n",
    "        # get first item\n",
    "        if isinstance(address_decode, list) :\n",
    "            address_decode = address_decode[0]\n",
    "        longtitude = address_decode['location']['x']\n",
    "        latitude = address_decode['location']['y']\n",
    "        map1.center = [latitude, longtitude]  \n",
    "        \n",
    "def place_input_change(change) :\n",
    "    \n",
    "    global gis, map1\n",
    "    place = change['new']\n",
    "    address_decode = geocode(place)[0]\n",
    "    longtitude = address_decode['location']['x']\n",
    "    latitude = address_decode['location']['y']\n",
    "    map1.center = [latitude, longtitude] \n",
    "    map1.zoom = 15\n",
    "        \n",
    "def longtitude_slider_change(change) :\n",
    "    \n",
    "    global gis, map1, longtitude, latitude\n",
    "    longtitude = change['new']\n",
    "    map1.center = [latitude, longtitude]  \n",
    "    \n",
    "def latitude_slider_change(change) :\n",
    "    \n",
    "    global gis, map1, longtitude, latitude\n",
    "    latitude = change['new']\n",
    "    map1.center = [latitude, longtitude]\n",
    "    \n",
    "def zoom_level_slider_change(change) :\n",
    "    \n",
    "    global gis, map1\n",
    "    zoom_level = change['new']\n",
    "    map1.zoom = zoom_level\n",
    "    \n",
    "def image_upload_change(change) :\n",
    "    \n",
    "    global current_image_path, logo_widget, current_image, test\n",
    "    current_image_path = list(change['new'].values())[0]['metadata']['name']\n",
    "    test = current_image_path\n",
    "    # change preview\n",
    "    satellite_file = open(current_image_path, \"rb\")\n",
    "    satellite_file = satellite_file.read()\n",
    "    logo_widget.value = satellite_file\n",
    "    \n",
    "    # get cv2 image\n",
    "    current_image = cv2.imread(current_image_path)\n",
    "    \n",
    "def screenshot_button_clicked(button) :\n",
    "    \n",
    "    global map1, current_image_path, satellite_image_dir, satellite_image_count\n",
    "    current_image_path = satellite_image_dir + str(satellite_image_count) + \".png\"\n",
    "    \n",
    "    # save image\n",
    "    map1.take_screenshot(file_path=current_image_path, set_as_preview=False, output_in_cell=False)\n",
    "    satellite_image_count += 1\n",
    "        \n",
    "def show_image_button_clicked(button) :\n",
    "    \n",
    "    global current_image_path, logo_widget, current_image\n",
    "    \n",
    "    # change preview\n",
    "    satellite_file = open(current_image_path, \"rb\")\n",
    "    satellite_file = satellite_file.read()\n",
    "    logo_widget.value = satellite_file\n",
    "    \n",
    "    # get cv2 image\n",
    "    current_image = cv2.imread(current_image_path)\n",
    "    \n",
    "def color_matching_without_overlap_clicked(button) :\n",
    "    pass\n",
    "    \n",
    "def color_matching_with_overlap_clicked(button) :\n",
    "    pass\n",
    "    \n",
    "def cloud_segmentation_clicked(button) :\n",
    "    pass\n",
    "    \n",
    "def normal_segmentation_clicked(button) :\n",
    "    pass\n",
    "    \n",
    "def road_fintune_segmentation_clicked(button) :\n",
    "    pass\n",
    "    \n",
    "def water_fintune_segmentation_clicked(button) :\n",
    "    pass"
   ]
  },
  {
   "cell_type": "code",
   "execution_count": 12,
   "metadata": {},
   "outputs": [],
   "source": [
    "test = \"\""
   ]
  },
  {
   "cell_type": "code",
   "execution_count": 14,
   "metadata": {
    "extensions": {
     "jupyter_dashboards": {
      "version": 1,
      "views": {
       "grid_default": {},
       "report_default": {}
      }
     }
    },
    "scrolled": false
   },
   "outputs": [
    {
     "data": {
      "text/markdown": [
       "## 國防部計畫工具"
      ],
      "text/plain": [
       "<IPython.core.display.Markdown object>"
      ]
     },
     "metadata": {},
     "output_type": "display_data"
    },
    {
     "data": {
      "application/vnd.jupyter.widget-view+json": {
       "model_id": "e12fe10f39914cee8049d683fd81bb55",
       "version_major": 2,
       "version_minor": 0
      },
      "text/plain": [
       "VBox(children=(Box(children=(VBox(children=(FloatSlider(value=121.3, continuous_update=False, description='Cho…"
      ]
     },
     "metadata": {},
     "output_type": "display_data"
    },
    {
     "data": {
      "application/vnd.jupyter.widget-view+json": {
       "model_id": "15412f215b4647e09d88863950091654",
       "version_major": 2,
       "version_minor": 0
      },
      "text/plain": [
       "MapView(layout=Layout(height='600px', width='100%'), mode='3D')"
      ]
     },
     "metadata": {},
     "output_type": "display_data"
    },
    {
     "data": {
      "text/html": [
       "<div class=\"map-static-img-preview-5055bee1-058e-4ca8-8296-50fa9d087872\"><img src=\"\"></img></div>"
      ],
      "text/plain": [
       "<IPython.core.display.HTML object>"
      ]
     },
     "metadata": {},
     "output_type": "display_data"
    },
    {
     "data": {
      "application/vnd.jupyter.widget-view+json": {
       "model_id": "bd8fc47eef62402f8723e5ee13ef168e",
       "version_major": 2,
       "version_minor": 0
      },
      "text/plain": [
       "Box(children=(Image(value=b'\\x89PNG\\r\\n\\x1a\\n\\x00\\x00\\x00\\rIHDR\\x00\\x00\\x06\\xad\\x00\\x00\\x02X\\x08\\x04\\x00\\x00\\x…"
      ]
     },
     "metadata": {},
     "output_type": "display_data"
    },
    {
     "data": {
      "application/vnd.jupyter.widget-view+json": {
       "model_id": "3bd5cd9b56ee4fdd8e360455dececa68",
       "version_major": 2,
       "version_minor": 0
      },
      "text/plain": [
       "VBox(children=(Box(children=(Button(description='Color Matching Without Overlap', layout=Layout(flex='1 1 auto…"
      ]
     },
     "metadata": {},
     "output_type": "display_data"
    },
    {
     "data": {
      "application/vnd.jupyter.widget-view+json": {
       "model_id": "cdb1b66333c74365ac8a68a6d526b306",
       "version_major": 2,
       "version_minor": 0
      },
      "text/plain": [
       "Box(children=(Image(value=b'\\xff\\xd8\\xff\\xe0\\x00\\x10JFIF\\x00\\x01\\x01\\x01\\x00`\\x00`\\x00\\x00\\xff\\xfe\\x00;CREATOR…"
      ]
     },
     "metadata": {},
     "output_type": "display_data"
    },
    {
     "data": {
      "text/plain": [
       "<IPython.core.display.SVG object>"
      ]
     },
     "execution_count": 14,
     "metadata": {},
     "output_type": "execute_result"
    }
   ],
   "source": [
    "# define layout\n",
    "item_layout = Layout(flex='1 1 auto', width='auto')\n",
    "select_layout = Layout(flex='2 1 0%', width='auto')\n",
    "text_layout = Layout(flex='3 1 0%', width='auto')\n",
    "box_layout = Layout(display='flex',\n",
    "                    flex_flow='row',\n",
    "                    align_items='stretch',\n",
    "                    width='100%')\n",
    "\n",
    "# define widgets and title\n",
    "# give some country\n",
    "options = ['Taiwan', 'United Kingdom', 'United States of America', 'Canada', 'China', 'Spain']\n",
    "\n",
    "title_screenshot = Markdown(\"## 國防部計畫工具\")\n",
    "\n",
    "# take screen shot\n",
    "country_select = widgets.Select(description='Select Country：', \n",
    "                                options=options, \n",
    "                                value='Taiwan', \n",
    "                                disabled=False, style={'description_width': 'initial'}, layout=select_layout)\n",
    "place_input = widgets.Text(value='', \n",
    "                               placeholder='Enter a place...', \n",
    "                               description='Enter a place：', \n",
    "                               disabled=False, style={'description_width': 'initial'}, layout=text_layout)\n",
    "longtitude_slider = widgets.FloatSlider(value=121.30,\n",
    "                                        min=120,\n",
    "                                        max=123,\n",
    "                                        step=0.01,\n",
    "                                        description='Choose the center of longtitude：',\n",
    "                                        disabled=False,\n",
    "                                        continuous_update=False,\n",
    "                                        orientation='horizontal',\n",
    "                                        readout=True,\n",
    "                                        readout_format='.1f', style={'description_width': 'initial'}, layout=item_layout)\n",
    "latitude_slider = widgets.FloatSlider(value=25.01,\n",
    "                                      min=22,\n",
    "                                      max=27,\n",
    "                                      step=0.01,\n",
    "                                      description='Choose the center of latitude：',\n",
    "                                      disabled=False,\n",
    "                                      continuous_update=False,\n",
    "                                      orientation='horizontal',\n",
    "                                      readout=True,\n",
    "                                      readout_format='.1f', style={'description_width': 'initial'}, layout=item_layout)\n",
    "zoom_level_slider = widgets.IntSlider(value=7,\n",
    "                                      min=7,\n",
    "                                      max=18,\n",
    "                                      step=1,\n",
    "                                      description='Zoom level',\n",
    "                                      disabled=False,\n",
    "                                      continuous_update=False,\n",
    "                                      orientation='horizontal',\n",
    "                                      readout=True,\n",
    "                                      readout_format='d', style={'description_width': 'initial'}, layout=item_layout)\n",
    "image_upload = widgets.FileUpload(accept= '.png,.jpg,.jpeg,.svg', multiple=False, layout=item_layout)\n",
    "screenshot_button = widgets.Button(description='Screen Shot',\n",
    "                                   disabled=False,\n",
    "                                   button_style='',\n",
    "                                   tooltip='Screen Shot', style={'description_width': 'initial'}, layout=item_layout)\n",
    "show_image_button = widgets.Button(description='Get Screen Shot Image', \n",
    "                                   disabled=False,\n",
    "                                   button_style='',\n",
    "                                   tooltip='Screen Shot', style={'description_width': 'initial'}, layout=item_layout)\n",
    "\n",
    "# combine to box\n",
    "lon_lat_slider_box = VBox([longtitude_slider, latitude_slider], layout=item_layout)\n",
    "zoom_file_box = VBox([zoom_level_slider, image_upload], layout=item_layout)\n",
    "map_slider_file = Box([lon_lat_slider_box, zoom_file_box], layout=box_layout)\n",
    "map_text_select = Box([country_select, place_input], layout=box_layout)\n",
    "map_button = Box([screenshot_button, show_image_button], layout=box_layout)\n",
    "map_tool_combine = VBox([map_slider_file, map_text_select, map_button])\n",
    "\n",
    "# function area\n",
    "color_matching_without_overlap = widgets.Button(description='Color Matching Without Overlap', \n",
    "                                                disabled=False,\n",
    "                                                button_style='',\n",
    "                                                tooltip='Color Matching Without Overlap', style={'description_width': 'initial'}, layout=item_layout)\n",
    "color_matching_with_overlap = widgets.Button(description='Color Matching With Overlap', \n",
    "                                              disabled=False,\n",
    "                                              button_style='',\n",
    "                                              tooltip='Color Matching With Overlap', style={'description_width': 'initial'}, layout=item_layout)\n",
    "cloud_segmentation = widgets.Button(description='Show Cloud Segmentation',\n",
    "                                    disabled=False,\n",
    "                                    button_style='',\n",
    "                                    tooltip='Color Matching With Overlap', style={'description_width': 'initial'}, layout=item_layout)\n",
    "normal_segmentation = widgets.Button(description='Show Roads/Buildings/Waters Segmentation', \n",
    "                                     disabled=False,\n",
    "                                     button_style='',\n",
    "                                     tooltip='Show Roads/Buildings/Waters Segmentation', style={'description_width': 'initial'}, layout=item_layout)\n",
    "road_fintune_segmentation = widgets.Button(description='Show Roads Fine Tune Segmentation', \n",
    "                                     disabled=False,\n",
    "                                     button_style='',\n",
    "                                     tooltip='Show Roads Fine Tune Segmentation', style={'description_width': 'initial'}, layout=item_layout)\n",
    "water_fintune_segmentation = widgets.Button(description='Show Water Fine Tune Segmentation', \n",
    "                                     disabled=False,\n",
    "                                     button_style='',\n",
    "                                     tooltip='Show Water Fine Tune Segmentation', style={'description_width': 'initial'}, layout=item_layout)\n",
    "\n",
    "# combine to box\n",
    "colormatching_button = Box([color_matching_without_overlap, color_matching_with_overlap], layout=box_layout)\n",
    "segmentation_button_normal = Box([normal_segmentation], layout=box_layout)\n",
    "segmentation_button_fintune = Box([road_fintune_segmentation, water_fintune_segmentation], layout=box_layout)\n",
    "tool_box_combine = VBox([colormatching_button, segmentation_button_normal, segmentation_button_fintune])\n",
    "\n",
    "# image area\n",
    "logo_file = open(\"images/logo.png\", \"rb\")\n",
    "logo_image = logo_file.read()\n",
    "logo_widget = widgets.Image(value=logo_image,\n",
    "                            format='png',  layout=item_layout)\n",
    "logo_box = Box([logo_widget], layout=box_layout)\n",
    "\n",
    "# map search tools observation\n",
    "country_select.observe(country_select_change, names='value')\n",
    "place_input.observe(place_input_change, names='value')\n",
    "longtitude_slider.observe(longtitude_slider_change, names='value')\n",
    "latitude_slider.observe(latitude_slider_change, names='value')\n",
    "zoom_level_slider.observe(zoom_level_slider_change, names='value')\n",
    "image_upload.observe(image_upload_change, names='value')\n",
    "screenshot_button.on_click(screenshot_button_clicked)\n",
    "show_image_button.on_click(show_image_button_clicked)\n",
    "\n",
    "# button onclick event\n",
    "color_matching_without_overlap.on_click(color_matching_without_overlap_clicked)\n",
    "color_matching_with_overlap.on_click(color_matching_with_overlap_clicked)\n",
    "cloud_segmentation.on_click(cloud_segmentation_clicked)\n",
    "normal_segmentation.on_click(normal_segmentation_clicked)\n",
    "road_fintune_segmentation.on_click(road_fintune_segmentation_clicked)\n",
    "water_fintune_segmentation.on_click(water_fintune_segmentation_clicked)\n",
    "\n",
    "# result image (from https://www.google.com/url?sa=i&source=images&cd=&ved=2ahUKEwig_Kq7rqXmAhWlNKYKHb-KCBUQjRx6BAgBEAQ&url=https%3A%2F%2Fca91.in%2Ficai-exams-ca-results-expected-date%2F&psig=AOvVaw2G4kyzo0IHFjczGrhiLivo&ust=1575870827161334 )\n",
    "# image area\n",
    "result_file = open(\"images/result.jpg\", \"rb\")\n",
    "result_image = result_file.read()\n",
    "result_widget = widgets.Image(value=result_image,\n",
    "                            format='pnm',  layout=item_layout)\n",
    "result_svg = SVG(url=\"images/result.svg\")\n",
    "result_box = Box([result_widget], layout=box_layout)\n",
    "\n",
    "\n",
    "# show item\n",
    "display(title_screenshot)\n",
    "display(map_tool_combine)\n",
    "display(map1)\n",
    "display(logo_box)\n",
    "display(tool_box_combine)\n",
    "display(result_box)\n",
    "result_svg"
   ]
  },
  {
   "cell_type": "code",
   "execution_count": 15,
   "metadata": {},
   "outputs": [
    {
     "data": {
      "text/plain": [
       "<IPython.core.display.SVG object>"
      ]
     },
     "metadata": {},
     "output_type": "display_data"
    }
   ],
   "source": [
    "display(result_svg)"
   ]
  },
  {
   "cell_type": "code",
   "execution_count": null,
   "metadata": {},
   "outputs": [],
   "source": []
  }
 ],
 "metadata": {
  "anaconda-cloud": {},
  "extensions": {
   "jupyter_dashboards": {
    "activeView": "grid_default",
    "version": 1,
    "views": {
     "grid_default": {
      "cellMargin": 10,
      "defaultCellHeight": 20,
      "maxColumns": 12,
      "name": "grid",
      "type": "grid"
     },
     "report_default": {
      "name": "report",
      "type": "report"
     }
    }
   }
  },
  "kernelspec": {
   "display_name": "Python 3",
   "language": "python",
   "name": "python3"
  },
  "language_info": {
   "codemirror_mode": {
    "name": "ipython",
    "version": 3
   },
   "file_extension": ".py",
   "mimetype": "text/x-python",
   "name": "python",
   "nbconvert_exporter": "python",
   "pygments_lexer": "ipython3",
   "version": "3.6.4"
  }
 },
 "nbformat": 4,
 "nbformat_minor": 4
}
